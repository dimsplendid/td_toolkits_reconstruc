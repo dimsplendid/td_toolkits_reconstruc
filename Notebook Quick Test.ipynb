{
 "cells": [
  {
   "cell_type": "code",
   "execution_count": 4,
   "id": "78a7cd2e",
   "metadata": {},
   "outputs": [],
   "source": [
    "# for django async setting\n",
    "import os\n",
    "import django\n",
    "import pandas as pd\n",
    "import plotly.express as px\n",
    "os.environ.setdefault('DJANGO_SETTINGS_MODULE', 'rest.settings')\n",
    "os.environ[\"DJANGO_ALLOW_ASYNC_UNSAFE\"] = \"true\"\n",
    "django.setup()"
   ]
  },
  {
   "cell_type": "code",
   "execution_count": 3,
   "id": "a1b27094",
   "metadata": {},
   "outputs": [],
   "source": [
    "# all models are loaded when using shell_plus\n",
    "\n",
    "x = Validator.objects.all()"
   ]
  },
  {
   "cell_type": "code",
   "execution_count": 33,
   "id": "da11a3f8-f727-4a95-a31a-5249bd3efcab",
   "metadata": {},
   "outputs": [
    {
     "name": "stdout",
     "output_type": "stream",
     "text": [
      "89.00\tLCT-15-1098 RB005 723K1M\n",
      "83.90\tLCT-15-1098 RB005 7142T\n",
      "82.00\tLCT-15-1098 RB005 V386\n",
      "79.00\tLCT-15-1098 RB005 V386\n",
      "63.90\tLCT-17-1336 RB005 V386\n",
      "92.60\tLCT-15-1098 RB005 7142T\n",
      "92.56\tLCT-15-1098 RB005 723K1M\n",
      "91.60\tSLC19V33 RB005 7142T\n",
      "91.60\tLCT-19-580 RB005 7142T\n",
      "91.30\tLCT-17-1336 RB005 7142T\n",
      "84.70\tSLC19V33 RB005 7142T\n",
      "83.70\tLCT-19-580 RB005 7142T\n",
      "81.70\tLCT-17-1336 RB005 7142T\n",
      "81.00\tLCT-17-1336 RB005 723K1M\n",
      "79.90\tSLC19V33 RB205 723K1M\n",
      "79.00\tLCT-17-1336 RB005 7142T\n",
      "78.50\tSLC19V33 RB005 7142T\n",
      "77.60\tLCT-17-1336 RB005 7142T\n",
      "73.60\tLCT-17-1336 RB205 723K1M\n"
     ]
    },
    {
     "data": {
      "application/vnd.plotly.v1+json": {
       "config": {
        "plotlyServerURL": "https://plot.ly"
       },
       "data": [
        {
         "alignmentgroup": "True",
         "hovertemplate": "vender=協立<br>cond=%{x}<br>VHR(%)=%{y}<extra></extra>",
         "legendgroup": "協立",
         "marker": {
          "color": "#636efa",
          "pattern": {
           "shape": ""
          }
         },
         "name": "協立",
         "offsetgroup": "協立",
         "orientation": "v",
         "showlegend": true,
         "textposition": "auto",
         "type": "bar",
         "x": [
          "LCT-15-1098 RB005 7142T",
          "LCT-15-1098 RB005 723K1M",
          "LCT-19-580 RB005 7142T",
          "SLC19V33 RB005 7142T",
          "LCT-17-1336 RB005 7142T",
          "LCT-17-1336 RB005 723K1M",
          "SLC19V33 RB205 723K1M",
          "LCT-17-1336 RB205 723K1M"
         ],
         "xaxis": "x",
         "y": [
          92.6,
          92.56,
          87.65,
          84.93333333333334,
          82.4,
          81,
          79.9,
          73.6
         ],
         "yaxis": "y"
        },
        {
         "alignmentgroup": "True",
         "hovertemplate": "vender=Merck<br>cond=%{x}<br>VHR(%)=%{y}<extra></extra>",
         "legendgroup": "Merck",
         "marker": {
          "color": "#EF553B",
          "pattern": {
           "shape": ""
          }
         },
         "name": "Merck",
         "offsetgroup": "Merck",
         "orientation": "v",
         "showlegend": true,
         "textposition": "auto",
         "type": "bar",
         "x": [
          "LCT-15-1098 RB005 723K1M",
          "LCT-15-1098 RB005 7142T",
          "LCT-15-1098 RB005 V386",
          "LCT-17-1336 RB005 V386"
         ],
         "xaxis": "x",
         "y": [
          89,
          83.9,
          80.5,
          63.9
         ],
         "yaxis": "y"
        }
       ],
       "layout": {
        "autosize": true,
        "barmode": "group",
        "legend": {
         "title": {
          "text": "vender"
         },
         "tracegroupgap": 0
        },
        "margin": {
         "t": 60
        },
        "template": {
         "data": {
          "bar": [
           {
            "error_x": {
             "color": "#2a3f5f"
            },
            "error_y": {
             "color": "#2a3f5f"
            },
            "marker": {
             "line": {
              "color": "#E5ECF6",
              "width": 0.5
             },
             "pattern": {
              "fillmode": "overlay",
              "size": 10,
              "solidity": 0.2
             }
            },
            "type": "bar"
           }
          ],
          "barpolar": [
           {
            "marker": {
             "line": {
              "color": "#E5ECF6",
              "width": 0.5
             },
             "pattern": {
              "fillmode": "overlay",
              "size": 10,
              "solidity": 0.2
             }
            },
            "type": "barpolar"
           }
          ],
          "carpet": [
           {
            "aaxis": {
             "endlinecolor": "#2a3f5f",
             "gridcolor": "white",
             "linecolor": "white",
             "minorgridcolor": "white",
             "startlinecolor": "#2a3f5f"
            },
            "baxis": {
             "endlinecolor": "#2a3f5f",
             "gridcolor": "white",
             "linecolor": "white",
             "minorgridcolor": "white",
             "startlinecolor": "#2a3f5f"
            },
            "type": "carpet"
           }
          ],
          "choropleth": [
           {
            "colorbar": {
             "outlinewidth": 0,
             "ticks": ""
            },
            "type": "choropleth"
           }
          ],
          "contour": [
           {
            "colorbar": {
             "outlinewidth": 0,
             "ticks": ""
            },
            "colorscale": [
             [
              0,
              "#0d0887"
             ],
             [
              0.1111111111111111,
              "#46039f"
             ],
             [
              0.2222222222222222,
              "#7201a8"
             ],
             [
              0.3333333333333333,
              "#9c179e"
             ],
             [
              0.4444444444444444,
              "#bd3786"
             ],
             [
              0.5555555555555556,
              "#d8576b"
             ],
             [
              0.6666666666666666,
              "#ed7953"
             ],
             [
              0.7777777777777778,
              "#fb9f3a"
             ],
             [
              0.8888888888888888,
              "#fdca26"
             ],
             [
              1,
              "#f0f921"
             ]
            ],
            "type": "contour"
           }
          ],
          "contourcarpet": [
           {
            "colorbar": {
             "outlinewidth": 0,
             "ticks": ""
            },
            "type": "contourcarpet"
           }
          ],
          "heatmap": [
           {
            "colorbar": {
             "outlinewidth": 0,
             "ticks": ""
            },
            "colorscale": [
             [
              0,
              "#0d0887"
             ],
             [
              0.1111111111111111,
              "#46039f"
             ],
             [
              0.2222222222222222,
              "#7201a8"
             ],
             [
              0.3333333333333333,
              "#9c179e"
             ],
             [
              0.4444444444444444,
              "#bd3786"
             ],
             [
              0.5555555555555556,
              "#d8576b"
             ],
             [
              0.6666666666666666,
              "#ed7953"
             ],
             [
              0.7777777777777778,
              "#fb9f3a"
             ],
             [
              0.8888888888888888,
              "#fdca26"
             ],
             [
              1,
              "#f0f921"
             ]
            ],
            "type": "heatmap"
           }
          ],
          "heatmapgl": [
           {
            "colorbar": {
             "outlinewidth": 0,
             "ticks": ""
            },
            "colorscale": [
             [
              0,
              "#0d0887"
             ],
             [
              0.1111111111111111,
              "#46039f"
             ],
             [
              0.2222222222222222,
              "#7201a8"
             ],
             [
              0.3333333333333333,
              "#9c179e"
             ],
             [
              0.4444444444444444,
              "#bd3786"
             ],
             [
              0.5555555555555556,
              "#d8576b"
             ],
             [
              0.6666666666666666,
              "#ed7953"
             ],
             [
              0.7777777777777778,
              "#fb9f3a"
             ],
             [
              0.8888888888888888,
              "#fdca26"
             ],
             [
              1,
              "#f0f921"
             ]
            ],
            "type": "heatmapgl"
           }
          ],
          "histogram": [
           {
            "marker": {
             "pattern": {
              "fillmode": "overlay",
              "size": 10,
              "solidity": 0.2
             }
            },
            "type": "histogram"
           }
          ],
          "histogram2d": [
           {
            "colorbar": {
             "outlinewidth": 0,
             "ticks": ""
            },
            "colorscale": [
             [
              0,
              "#0d0887"
             ],
             [
              0.1111111111111111,
              "#46039f"
             ],
             [
              0.2222222222222222,
              "#7201a8"
             ],
             [
              0.3333333333333333,
              "#9c179e"
             ],
             [
              0.4444444444444444,
              "#bd3786"
             ],
             [
              0.5555555555555556,
              "#d8576b"
             ],
             [
              0.6666666666666666,
              "#ed7953"
             ],
             [
              0.7777777777777778,
              "#fb9f3a"
             ],
             [
              0.8888888888888888,
              "#fdca26"
             ],
             [
              1,
              "#f0f921"
             ]
            ],
            "type": "histogram2d"
           }
          ],
          "histogram2dcontour": [
           {
            "colorbar": {
             "outlinewidth": 0,
             "ticks": ""
            },
            "colorscale": [
             [
              0,
              "#0d0887"
             ],
             [
              0.1111111111111111,
              "#46039f"
             ],
             [
              0.2222222222222222,
              "#7201a8"
             ],
             [
              0.3333333333333333,
              "#9c179e"
             ],
             [
              0.4444444444444444,
              "#bd3786"
             ],
             [
              0.5555555555555556,
              "#d8576b"
             ],
             [
              0.6666666666666666,
              "#ed7953"
             ],
             [
              0.7777777777777778,
              "#fb9f3a"
             ],
             [
              0.8888888888888888,
              "#fdca26"
             ],
             [
              1,
              "#f0f921"
             ]
            ],
            "type": "histogram2dcontour"
           }
          ],
          "mesh3d": [
           {
            "colorbar": {
             "outlinewidth": 0,
             "ticks": ""
            },
            "type": "mesh3d"
           }
          ],
          "parcoords": [
           {
            "line": {
             "colorbar": {
              "outlinewidth": 0,
              "ticks": ""
             }
            },
            "type": "parcoords"
           }
          ],
          "pie": [
           {
            "automargin": true,
            "type": "pie"
           }
          ],
          "scatter": [
           {
            "marker": {
             "colorbar": {
              "outlinewidth": 0,
              "ticks": ""
             }
            },
            "type": "scatter"
           }
          ],
          "scatter3d": [
           {
            "line": {
             "colorbar": {
              "outlinewidth": 0,
              "ticks": ""
             }
            },
            "marker": {
             "colorbar": {
              "outlinewidth": 0,
              "ticks": ""
             }
            },
            "type": "scatter3d"
           }
          ],
          "scattercarpet": [
           {
            "marker": {
             "colorbar": {
              "outlinewidth": 0,
              "ticks": ""
             }
            },
            "type": "scattercarpet"
           }
          ],
          "scattergeo": [
           {
            "marker": {
             "colorbar": {
              "outlinewidth": 0,
              "ticks": ""
             }
            },
            "type": "scattergeo"
           }
          ],
          "scattergl": [
           {
            "marker": {
             "colorbar": {
              "outlinewidth": 0,
              "ticks": ""
             }
            },
            "type": "scattergl"
           }
          ],
          "scattermapbox": [
           {
            "marker": {
             "colorbar": {
              "outlinewidth": 0,
              "ticks": ""
             }
            },
            "type": "scattermapbox"
           }
          ],
          "scatterpolar": [
           {
            "marker": {
             "colorbar": {
              "outlinewidth": 0,
              "ticks": ""
             }
            },
            "type": "scatterpolar"
           }
          ],
          "scatterpolargl": [
           {
            "marker": {
             "colorbar": {
              "outlinewidth": 0,
              "ticks": ""
             }
            },
            "type": "scatterpolargl"
           }
          ],
          "scatterternary": [
           {
            "marker": {
             "colorbar": {
              "outlinewidth": 0,
              "ticks": ""
             }
            },
            "type": "scatterternary"
           }
          ],
          "surface": [
           {
            "colorbar": {
             "outlinewidth": 0,
             "ticks": ""
            },
            "colorscale": [
             [
              0,
              "#0d0887"
             ],
             [
              0.1111111111111111,
              "#46039f"
             ],
             [
              0.2222222222222222,
              "#7201a8"
             ],
             [
              0.3333333333333333,
              "#9c179e"
             ],
             [
              0.4444444444444444,
              "#bd3786"
             ],
             [
              0.5555555555555556,
              "#d8576b"
             ],
             [
              0.6666666666666666,
              "#ed7953"
             ],
             [
              0.7777777777777778,
              "#fb9f3a"
             ],
             [
              0.8888888888888888,
              "#fdca26"
             ],
             [
              1,
              "#f0f921"
             ]
            ],
            "type": "surface"
           }
          ],
          "table": [
           {
            "cells": {
             "fill": {
              "color": "#EBF0F8"
             },
             "line": {
              "color": "white"
             }
            },
            "header": {
             "fill": {
              "color": "#C8D4E3"
             },
             "line": {
              "color": "white"
             }
            },
            "type": "table"
           }
          ]
         },
         "layout": {
          "annotationdefaults": {
           "arrowcolor": "#2a3f5f",
           "arrowhead": 0,
           "arrowwidth": 1
          },
          "autotypenumbers": "strict",
          "coloraxis": {
           "colorbar": {
            "outlinewidth": 0,
            "ticks": ""
           }
          },
          "colorscale": {
           "diverging": [
            [
             0,
             "#8e0152"
            ],
            [
             0.1,
             "#c51b7d"
            ],
            [
             0.2,
             "#de77ae"
            ],
            [
             0.3,
             "#f1b6da"
            ],
            [
             0.4,
             "#fde0ef"
            ],
            [
             0.5,
             "#f7f7f7"
            ],
            [
             0.6,
             "#e6f5d0"
            ],
            [
             0.7,
             "#b8e186"
            ],
            [
             0.8,
             "#7fbc41"
            ],
            [
             0.9,
             "#4d9221"
            ],
            [
             1,
             "#276419"
            ]
           ],
           "sequential": [
            [
             0,
             "#0d0887"
            ],
            [
             0.1111111111111111,
             "#46039f"
            ],
            [
             0.2222222222222222,
             "#7201a8"
            ],
            [
             0.3333333333333333,
             "#9c179e"
            ],
            [
             0.4444444444444444,
             "#bd3786"
            ],
            [
             0.5555555555555556,
             "#d8576b"
            ],
            [
             0.6666666666666666,
             "#ed7953"
            ],
            [
             0.7777777777777778,
             "#fb9f3a"
            ],
            [
             0.8888888888888888,
             "#fdca26"
            ],
            [
             1,
             "#f0f921"
            ]
           ],
           "sequentialminus": [
            [
             0,
             "#0d0887"
            ],
            [
             0.1111111111111111,
             "#46039f"
            ],
            [
             0.2222222222222222,
             "#7201a8"
            ],
            [
             0.3333333333333333,
             "#9c179e"
            ],
            [
             0.4444444444444444,
             "#bd3786"
            ],
            [
             0.5555555555555556,
             "#d8576b"
            ],
            [
             0.6666666666666666,
             "#ed7953"
            ],
            [
             0.7777777777777778,
             "#fb9f3a"
            ],
            [
             0.8888888888888888,
             "#fdca26"
            ],
            [
             1,
             "#f0f921"
            ]
           ]
          },
          "colorway": [
           "#636efa",
           "#EF553B",
           "#00cc96",
           "#ab63fa",
           "#FFA15A",
           "#19d3f3",
           "#FF6692",
           "#B6E880",
           "#FF97FF",
           "#FECB52"
          ],
          "font": {
           "color": "#2a3f5f"
          },
          "geo": {
           "bgcolor": "white",
           "lakecolor": "white",
           "landcolor": "#E5ECF6",
           "showlakes": true,
           "showland": true,
           "subunitcolor": "white"
          },
          "hoverlabel": {
           "align": "left"
          },
          "hovermode": "closest",
          "mapbox": {
           "style": "light"
          },
          "paper_bgcolor": "white",
          "plot_bgcolor": "#E5ECF6",
          "polar": {
           "angularaxis": {
            "gridcolor": "white",
            "linecolor": "white",
            "ticks": ""
           },
           "bgcolor": "#E5ECF6",
           "radialaxis": {
            "gridcolor": "white",
            "linecolor": "white",
            "ticks": ""
           }
          },
          "scene": {
           "xaxis": {
            "backgroundcolor": "#E5ECF6",
            "gridcolor": "white",
            "gridwidth": 2,
            "linecolor": "white",
            "showbackground": true,
            "ticks": "",
            "zerolinecolor": "white"
           },
           "yaxis": {
            "backgroundcolor": "#E5ECF6",
            "gridcolor": "white",
            "gridwidth": 2,
            "linecolor": "white",
            "showbackground": true,
            "ticks": "",
            "zerolinecolor": "white"
           },
           "zaxis": {
            "backgroundcolor": "#E5ECF6",
            "gridcolor": "white",
            "gridwidth": 2,
            "linecolor": "white",
            "showbackground": true,
            "ticks": "",
            "zerolinecolor": "white"
           }
          },
          "shapedefaults": {
           "line": {
            "color": "#2a3f5f"
           }
          },
          "ternary": {
           "aaxis": {
            "gridcolor": "white",
            "linecolor": "white",
            "ticks": ""
           },
           "baxis": {
            "gridcolor": "white",
            "linecolor": "white",
            "ticks": ""
           },
           "bgcolor": "#E5ECF6",
           "caxis": {
            "gridcolor": "white",
            "linecolor": "white",
            "ticks": ""
           }
          },
          "title": {
           "x": 0.05
          },
          "xaxis": {
           "automargin": true,
           "gridcolor": "white",
           "linecolor": "white",
           "ticks": "",
           "title": {
            "standoff": 15
           },
           "zerolinecolor": "white",
           "zerolinewidth": 2
          },
          "yaxis": {
           "automargin": true,
           "gridcolor": "white",
           "linecolor": "white",
           "ticks": "",
           "title": {
            "standoff": 15
           },
           "zerolinecolor": "white",
           "zerolinewidth": 2
          }
         }
        },
        "xaxis": {
         "anchor": "y",
         "autorange": true,
         "domain": [
          0,
          1
         ],
         "range": [
          -0.5,
          9.5
         ],
         "title": {
          "text": "cond"
         },
         "type": "category"
        },
        "yaxis": {
         "anchor": "x",
         "autorange": true,
         "domain": [
          0,
          1
         ],
         "range": [
          0,
          97.47368421052632
         ],
         "title": {
          "text": "VHR(%)"
         },
         "type": "linear"
        }
       }
      },
      "image/png": "[encoded data removed]",
      "text/html": [
       "<div>                            <div id=\"ad71bf81-9017-4d0b-8743-329e3298ab7b\" class=\"plotly-graph-div\" style=\"height:525px; width:100%;\"></div>            <script type=\"text/javascript\">                require([\"plotly\"], function(Plotly) {                    window.PLOTLYENV=window.PLOTLYENV || {};                                    if (document.getElementById(\"ad71bf81-9017-4d0b-8743-329e3298ab7b\")) {                    Plotly.newPlot(                        \"ad71bf81-9017-4d0b-8743-329e3298ab7b\",                        [{\"alignmentgroup\":\"True\",\"hovertemplate\":\"vender=\\u5354\\u7acb<br>cond=%{x}<br>VHR(%)=%{y}<extra></extra>\",\"legendgroup\":\"\\u5354\\u7acb\",\"marker\":{\"color\":\"#636efa\",\"pattern\":{\"shape\":\"\"}},\"name\":\"\\u5354\\u7acb\",\"offsetgroup\":\"\\u5354\\u7acb\",\"orientation\":\"v\",\"showlegend\":true,\"textposition\":\"auto\",\"x\":[\"LCT-15-1098 RB005 7142T\",\"LCT-15-1098 RB005 723K1M\",\"LCT-19-580 RB005 7142T\",\"SLC19V33 RB005 7142T\",\"LCT-17-1336 RB005 7142T\",\"LCT-17-1336 RB005 723K1M\",\"SLC19V33 RB205 723K1M\",\"LCT-17-1336 RB205 723K1M\"],\"xaxis\":\"x\",\"y\":[92.6,92.56,87.65,84.93333333333334,82.4,81.0,79.9,73.6],\"yaxis\":\"y\",\"type\":\"bar\"},{\"alignmentgroup\":\"True\",\"hovertemplate\":\"vender=Merck<br>cond=%{x}<br>VHR(%)=%{y}<extra></extra>\",\"legendgroup\":\"Merck\",\"marker\":{\"color\":\"#EF553B\",\"pattern\":{\"shape\":\"\"}},\"name\":\"Merck\",\"offsetgroup\":\"Merck\",\"orientation\":\"v\",\"showlegend\":true,\"textposition\":\"auto\",\"x\":[\"LCT-15-1098 RB005 723K1M\",\"LCT-15-1098 RB005 7142T\",\"LCT-15-1098 RB005 V386\",\"LCT-17-1336 RB005 V386\"],\"xaxis\":\"x\",\"y\":[89.0,83.9,80.5,63.9],\"yaxis\":\"y\",\"type\":\"bar\"}],                        {\"template\":{\"data\":{\"bar\":[{\"error_x\":{\"color\":\"#2a3f5f\"},\"error_y\":{\"color\":\"#2a3f5f\"},\"marker\":{\"line\":{\"color\":\"#E5ECF6\",\"width\":0.5},\"pattern\":{\"fillmode\":\"overlay\",\"size\":10,\"solidity\":0.2}},\"type\":\"bar\"}],\"barpolar\":[{\"marker\":{\"line\":{\"color\":\"#E5ECF6\",\"width\":0.5},\"pattern\":{\"fillmode\":\"overlay\",\"size\":10,\"solidity\":0.2}},\"type\":\"barpolar\"}],\"carpet\":[{\"aaxis\":{\"endlinecolor\":\"#2a3f5f\",\"gridcolor\":\"white\",\"linecolor\":\"white\",\"minorgridcolor\":\"white\",\"startlinecolor\":\"#2a3f5f\"},\"baxis\":{\"endlinecolor\":\"#2a3f5f\",\"gridcolor\":\"white\",\"linecolor\":\"white\",\"minorgridcolor\":\"white\",\"startlinecolor\":\"#2a3f5f\"},\"type\":\"carpet\"}],\"choropleth\":[{\"colorbar\":{\"outlinewidth\":0,\"ticks\":\"\"},\"type\":\"choropleth\"}],\"contour\":[{\"colorbar\":{\"outlinewidth\":0,\"ticks\":\"\"},\"colorscale\":[[0.0,\"#0d0887\"],[0.1111111111111111,\"#46039f\"],[0.2222222222222222,\"#7201a8\"],[0.3333333333333333,\"#9c179e\"],[0.4444444444444444,\"#bd3786\"],[0.5555555555555556,\"#d8576b\"],[0.6666666666666666,\"#ed7953\"],[0.7777777777777778,\"#fb9f3a\"],[0.8888888888888888,\"#fdca26\"],[1.0,\"#f0f921\"]],\"type\":\"contour\"}],\"contourcarpet\":[{\"colorbar\":{\"outlinewidth\":0,\"ticks\":\"\"},\"type\":\"contourcarpet\"}],\"heatmap\":[{\"colorbar\":{\"outlinewidth\":0,\"ticks\":\"\"},\"colorscale\":[[0.0,\"#0d0887\"],[0.1111111111111111,\"#46039f\"],[0.2222222222222222,\"#7201a8\"],[0.3333333333333333,\"#9c179e\"],[0.4444444444444444,\"#bd3786\"],[0.5555555555555556,\"#d8576b\"],[0.6666666666666666,\"#ed7953\"],[0.7777777777777778,\"#fb9f3a\"],[0.8888888888888888,\"#fdca26\"],[1.0,\"#f0f921\"]],\"type\":\"heatmap\"}],\"heatmapgl\":[{\"colorbar\":{\"outlinewidth\":0,\"ticks\":\"\"},\"colorscale\":[[0.0,\"#0d0887\"],[0.1111111111111111,\"#46039f\"],[0.2222222222222222,\"#7201a8\"],[0.3333333333333333,\"#9c179e\"],[0.4444444444444444,\"#bd3786\"],[0.5555555555555556,\"#d8576b\"],[0.6666666666666666,\"#ed7953\"],[0.7777777777777778,\"#fb9f3a\"],[0.8888888888888888,\"#fdca26\"],[1.0,\"#f0f921\"]],\"type\":\"heatmapgl\"}],\"histogram\":[{\"marker\":{\"pattern\":{\"fillmode\":\"overlay\",\"size\":10,\"solidity\":0.2}},\"type\":\"histogram\"}],\"histogram2d\":[{\"colorbar\":{\"outlinewidth\":0,\"ticks\":\"\"},\"colorscale\":[[0.0,\"#0d0887\"],[0.1111111111111111,\"#46039f\"],[0.2222222222222222,\"#7201a8\"],[0.3333333333333333,\"#9c179e\"],[0.4444444444444444,\"#bd3786\"],[0.5555555555555556,\"#d8576b\"],[0.6666666666666666,\"#ed7953\"],[0.7777777777777778,\"#fb9f3a\"],[0.8888888888888888,\"#fdca26\"],[1.0,\"#f0f921\"]],\"type\":\"histogram2d\"}],\"histogram2dcontour\":[{\"colorbar\":{\"outlinewidth\":0,\"ticks\":\"\"},\"colorscale\":[[0.0,\"#0d0887\"],[0.1111111111111111,\"#46039f\"],[0.2222222222222222,\"#7201a8\"],[0.3333333333333333,\"#9c179e\"],[0.4444444444444444,\"#bd3786\"],[0.5555555555555556,\"#d8576b\"],[0.6666666666666666,\"#ed7953\"],[0.7777777777777778,\"#fb9f3a\"],[0.8888888888888888,\"#fdca26\"],[1.0,\"#f0f921\"]],\"type\":\"histogram2dcontour\"}],\"mesh3d\":[{\"colorbar\":{\"outlinewidth\":0,\"ticks\":\"\"},\"type\":\"mesh3d\"}],\"parcoords\":[{\"line\":{\"colorbar\":{\"outlinewidth\":0,\"ticks\":\"\"}},\"type\":\"parcoords\"}],\"pie\":[{\"automargin\":true,\"type\":\"pie\"}],\"scatter\":[{\"marker\":{\"colorbar\":{\"outlinewidth\":0,\"ticks\":\"\"}},\"type\":\"scatter\"}],\"scatter3d\":[{\"line\":{\"colorbar\":{\"outlinewidth\":0,\"ticks\":\"\"}},\"marker\":{\"colorbar\":{\"outlinewidth\":0,\"ticks\":\"\"}},\"type\":\"scatter3d\"}],\"scattercarpet\":[{\"marker\":{\"colorbar\":{\"outlinewidth\":0,\"ticks\":\"\"}},\"type\":\"scattercarpet\"}],\"scattergeo\":[{\"marker\":{\"colorbar\":{\"outlinewidth\":0,\"ticks\":\"\"}},\"type\":\"scattergeo\"}],\"scattergl\":[{\"marker\":{\"colorbar\":{\"outlinewidth\":0,\"ticks\":\"\"}},\"type\":\"scattergl\"}],\"scattermapbox\":[{\"marker\":{\"colorbar\":{\"outlinewidth\":0,\"ticks\":\"\"}},\"type\":\"scattermapbox\"}],\"scatterpolar\":[{\"marker\":{\"colorbar\":{\"outlinewidth\":0,\"ticks\":\"\"}},\"type\":\"scatterpolar\"}],\"scatterpolargl\":[{\"marker\":{\"colorbar\":{\"outlinewidth\":0,\"ticks\":\"\"}},\"type\":\"scatterpolargl\"}],\"scatterternary\":[{\"marker\":{\"colorbar\":{\"outlinewidth\":0,\"ticks\":\"\"}},\"type\":\"scatterternary\"}],\"surface\":[{\"colorbar\":{\"outlinewidth\":0,\"ticks\":\"\"},\"colorscale\":[[0.0,\"#0d0887\"],[0.1111111111111111,\"#46039f\"],[0.2222222222222222,\"#7201a8\"],[0.3333333333333333,\"#9c179e\"],[0.4444444444444444,\"#bd3786\"],[0.5555555555555556,\"#d8576b\"],[0.6666666666666666,\"#ed7953\"],[0.7777777777777778,\"#fb9f3a\"],[0.8888888888888888,\"#fdca26\"],[1.0,\"#f0f921\"]],\"type\":\"surface\"}],\"table\":[{\"cells\":{\"fill\":{\"color\":\"#EBF0F8\"},\"line\":{\"color\":\"white\"}},\"header\":{\"fill\":{\"color\":\"#C8D4E3\"},\"line\":{\"color\":\"white\"}},\"type\":\"table\"}]},\"layout\":{\"annotationdefaults\":{\"arrowcolor\":\"#2a3f5f\",\"arrowhead\":0,\"arrowwidth\":1},\"autotypenumbers\":\"strict\",\"coloraxis\":{\"colorbar\":{\"outlinewidth\":0,\"ticks\":\"\"}},\"colorscale\":{\"diverging\":[[0,\"#8e0152\"],[0.1,\"#c51b7d\"],[0.2,\"#de77ae\"],[0.3,\"#f1b6da\"],[0.4,\"#fde0ef\"],[0.5,\"#f7f7f7\"],[0.6,\"#e6f5d0\"],[0.7,\"#b8e186\"],[0.8,\"#7fbc41\"],[0.9,\"#4d9221\"],[1,\"#276419\"]],\"sequential\":[[0.0,\"#0d0887\"],[0.1111111111111111,\"#46039f\"],[0.2222222222222222,\"#7201a8\"],[0.3333333333333333,\"#9c179e\"],[0.4444444444444444,\"#bd3786\"],[0.5555555555555556,\"#d8576b\"],[0.6666666666666666,\"#ed7953\"],[0.7777777777777778,\"#fb9f3a\"],[0.8888888888888888,\"#fdca26\"],[1.0,\"#f0f921\"]],\"sequentialminus\":[[0.0,\"#0d0887\"],[0.1111111111111111,\"#46039f\"],[0.2222222222222222,\"#7201a8\"],[0.3333333333333333,\"#9c179e\"],[0.4444444444444444,\"#bd3786\"],[0.5555555555555556,\"#d8576b\"],[0.6666666666666666,\"#ed7953\"],[0.7777777777777778,\"#fb9f3a\"],[0.8888888888888888,\"#fdca26\"],[1.0,\"#f0f921\"]]},\"colorway\":[\"#636efa\",\"#EF553B\",\"#00cc96\",\"#ab63fa\",\"#FFA15A\",\"#19d3f3\",\"#FF6692\",\"#B6E880\",\"#FF97FF\",\"#FECB52\"],\"font\":{\"color\":\"#2a3f5f\"},\"geo\":{\"bgcolor\":\"white\",\"lakecolor\":\"white\",\"landcolor\":\"#E5ECF6\",\"showlakes\":true,\"showland\":true,\"subunitcolor\":\"white\"},\"hoverlabel\":{\"align\":\"left\"},\"hovermode\":\"closest\",\"mapbox\":{\"style\":\"light\"},\"paper_bgcolor\":\"white\",\"plot_bgcolor\":\"#E5ECF6\",\"polar\":{\"angularaxis\":{\"gridcolor\":\"white\",\"linecolor\":\"white\",\"ticks\":\"\"},\"bgcolor\":\"#E5ECF6\",\"radialaxis\":{\"gridcolor\":\"white\",\"linecolor\":\"white\",\"ticks\":\"\"}},\"scene\":{\"xaxis\":{\"backgroundcolor\":\"#E5ECF6\",\"gridcolor\":\"white\",\"gridwidth\":2,\"linecolor\":\"white\",\"showbackground\":true,\"ticks\":\"\",\"zerolinecolor\":\"white\"},\"yaxis\":{\"backgroundcolor\":\"#E5ECF6\",\"gridcolor\":\"white\",\"gridwidth\":2,\"linecolor\":\"white\",\"showbackground\":true,\"ticks\":\"\",\"zerolinecolor\":\"white\"},\"zaxis\":{\"backgroundcolor\":\"#E5ECF6\",\"gridcolor\":\"white\",\"gridwidth\":2,\"linecolor\":\"white\",\"showbackground\":true,\"ticks\":\"\",\"zerolinecolor\":\"white\"}},\"shapedefaults\":{\"line\":{\"color\":\"#2a3f5f\"}},\"ternary\":{\"aaxis\":{\"gridcolor\":\"white\",\"linecolor\":\"white\",\"ticks\":\"\"},\"baxis\":{\"gridcolor\":\"white\",\"linecolor\":\"white\",\"ticks\":\"\"},\"bgcolor\":\"#E5ECF6\",\"caxis\":{\"gridcolor\":\"white\",\"linecolor\":\"white\",\"ticks\":\"\"}},\"title\":{\"x\":0.05},\"xaxis\":{\"automargin\":true,\"gridcolor\":\"white\",\"linecolor\":\"white\",\"ticks\":\"\",\"title\":{\"standoff\":15},\"zerolinecolor\":\"white\",\"zerolinewidth\":2},\"yaxis\":{\"automargin\":true,\"gridcolor\":\"white\",\"linecolor\":\"white\",\"ticks\":\"\",\"title\":{\"standoff\":15},\"zerolinecolor\":\"white\",\"zerolinewidth\":2}}},\"xaxis\":{\"anchor\":\"y\",\"domain\":[0.0,1.0],\"title\":{\"text\":\"cond\"}},\"yaxis\":{\"anchor\":\"x\",\"domain\":[0.0,1.0],\"title\":{\"text\":\"VHR(%)\"}},\"legend\":{\"title\":{\"text\":\"vender\"},\"tracegroupgap\":0},\"margin\":{\"t\":60},\"barmode\":\"group\"},                        {\"responsive\": true}                    ).then(function(){\n",
       "                            \n",
       "var gd = document.getElementById('ad71bf81-9017-4d0b-8743-329e3298ab7b');\n",
       "var x = new MutationObserver(function (mutations, observer) {{\n",
       "        var display = window.getComputedStyle(gd).display;\n",
       "        if (!display || display === 'none') {{\n",
       "            console.log([gd, 'removed!']);\n",
       "            Plotly.purge(gd);\n",
       "            observer.disconnect();\n",
       "        }}\n",
       "}});\n",
       "\n",
       "// Listen for the removal of the full notebook cells\n",
       "var notebookContainer = gd.closest('#notebook-container');\n",
       "if (notebookContainer) {{\n",
       "    x.observe(notebookContainer, {childList: true});\n",
       "}}\n",
       "\n",
       "// Listen for the clearing of the current output cell\n",
       "var outputEl = gd.closest('.output');\n",
       "if (outputEl) {{\n",
       "    x.observe(outputEl, {childList: true});\n",
       "}}\n",
       "\n",
       "                        })                };                });            </script>        </div>"
      ]
     },
     "metadata": {},
     "output_type": "display_data"
    }
   ],
   "source": [
    "# bar plot of each item\n",
    "import pandas as pd\n",
    "VHR_query = VHR.objects.filter(value__gt=50).order_by('vender__name', '-value')\n",
    "x_data = []\n",
    "y_data = []\n",
    "vender = []\n",
    "for row in VHR_query:\n",
    "    x_data += [f'{row.LC.name} {row.PI.name} {row.seal.name}']\n",
    "    vender += [row.vender.name]\n",
    "    y_data += [float(row.value)]\n",
    "    print(f'{row.value}\\t{row.LC.name} {row.PI.name} {row.seal.name}')\n",
    "\n",
    "df = pd.DataFrame({\n",
    "    'cond': x_data,\n",
    "    'VHR(%)': y_data,\n",
    "    'vender': vender,\n",
    "})\n",
    "\n",
    "\n",
    "\n",
    "df_mean = df.groupby(by=['vender', 'cond'], as_index=False).mean().sort_values(by=['VHR(%)'], ascending=False)\n",
    "\n",
    "import plotly.express as px\n",
    "fig = px.bar(df_mean,x='cond', y='VHR(%)', color='vender', barmode='group')\n",
    "fig.show()\n",
    "\n"
   ]
  },
  {
   "cell_type": "code",
   "execution_count": 31,
   "id": "f9d8f6c6-6b6c-4304-b762-48f1e7198262",
   "metadata": {},
   "outputs": [
    {
     "data": {
      "text/html": [
       "<div>\n",
       "<style scoped>\n",
       "    .dataframe tbody tr th:only-of-type {\n",
       "        vertical-align: middle;\n",
       "    }\n",
       "\n",
       "    .dataframe tbody tr th {\n",
       "        vertical-align: top;\n",
       "    }\n",
       "\n",
       "    .dataframe thead th {\n",
       "        text-align: right;\n",
       "    }\n",
       "</style>\n",
       "<table border=\"1\" class=\"dataframe\">\n",
       "  <thead>\n",
       "    <tr style=\"text-align: right;\">\n",
       "      <th></th>\n",
       "      <th>vender</th>\n",
       "      <th>cond</th>\n",
       "      <th>VHR(%)</th>\n",
       "    </tr>\n",
       "  </thead>\n",
       "  <tbody>\n",
       "    <tr>\n",
       "      <th>0</th>\n",
       "      <td>Merck</td>\n",
       "      <td>LCT-15-1098 RB005 7142T</td>\n",
       "      <td>83.900000</td>\n",
       "    </tr>\n",
       "    <tr>\n",
       "      <th>1</th>\n",
       "      <td>Merck</td>\n",
       "      <td>LCT-15-1098 RB005 723K1M</td>\n",
       "      <td>89.000000</td>\n",
       "    </tr>\n",
       "    <tr>\n",
       "      <th>2</th>\n",
       "      <td>Merck</td>\n",
       "      <td>LCT-15-1098 RB005 V386</td>\n",
       "      <td>80.500000</td>\n",
       "    </tr>\n",
       "    <tr>\n",
       "      <th>3</th>\n",
       "      <td>Merck</td>\n",
       "      <td>LCT-17-1336 RB005 V386</td>\n",
       "      <td>63.900000</td>\n",
       "    </tr>\n",
       "    <tr>\n",
       "      <th>4</th>\n",
       "      <td>協立</td>\n",
       "      <td>LCT-15-1098 RB005 7142T</td>\n",
       "      <td>92.600000</td>\n",
       "    </tr>\n",
       "    <tr>\n",
       "      <th>5</th>\n",
       "      <td>協立</td>\n",
       "      <td>LCT-15-1098 RB005 723K1M</td>\n",
       "      <td>92.560000</td>\n",
       "    </tr>\n",
       "    <tr>\n",
       "      <th>6</th>\n",
       "      <td>協立</td>\n",
       "      <td>LCT-17-1336 RB005 7142T</td>\n",
       "      <td>82.400000</td>\n",
       "    </tr>\n",
       "    <tr>\n",
       "      <th>7</th>\n",
       "      <td>協立</td>\n",
       "      <td>LCT-17-1336 RB005 723K1M</td>\n",
       "      <td>81.000000</td>\n",
       "    </tr>\n",
       "    <tr>\n",
       "      <th>8</th>\n",
       "      <td>協立</td>\n",
       "      <td>LCT-17-1336 RB205 723K1M</td>\n",
       "      <td>73.600000</td>\n",
       "    </tr>\n",
       "    <tr>\n",
       "      <th>9</th>\n",
       "      <td>協立</td>\n",
       "      <td>LCT-19-580 RB005 7142T</td>\n",
       "      <td>87.650000</td>\n",
       "    </tr>\n",
       "    <tr>\n",
       "      <th>10</th>\n",
       "      <td>協立</td>\n",
       "      <td>SLC19V33 RB005 7142T</td>\n",
       "      <td>84.933333</td>\n",
       "    </tr>\n",
       "    <tr>\n",
       "      <th>11</th>\n",
       "      <td>協立</td>\n",
       "      <td>SLC19V33 RB205 723K1M</td>\n",
       "      <td>79.900000</td>\n",
       "    </tr>\n",
       "  </tbody>\n",
       "</table>\n",
       "</div>"
      ],
      "text/plain": [
       "   vender                      cond     VHR(%)\n",
       "0   Merck   LCT-15-1098 RB005 7142T  83.900000\n",
       "1   Merck  LCT-15-1098 RB005 723K1M  89.000000\n",
       "2   Merck    LCT-15-1098 RB005 V386  80.500000\n",
       "3   Merck    LCT-17-1336 RB005 V386  63.900000\n",
       "4      協立   LCT-15-1098 RB005 7142T  92.600000\n",
       "5      協立  LCT-15-1098 RB005 723K1M  92.560000\n",
       "6      協立   LCT-17-1336 RB005 7142T  82.400000\n",
       "7      協立  LCT-17-1336 RB005 723K1M  81.000000\n",
       "8      協立  LCT-17-1336 RB205 723K1M  73.600000\n",
       "9      協立    LCT-19-580 RB005 7142T  87.650000\n",
       "10     協立      SLC19V33 RB005 7142T  84.933333\n",
       "11     協立     SLC19V33 RB205 723K1M  79.900000"
      ]
     },
     "execution_count": 31,
     "metadata": {},
     "output_type": "execute_result"
    }
   ],
   "source": [
    "df_mean"
   ]
  },
  {
   "cell_type": "code",
   "execution_count": 21,
   "id": "7f758352",
   "metadata": {},
   "outputs": [
    {
     "data": {
      "text/html": [
       "<div>\n",
       "<style scoped>\n",
       "    .dataframe tbody tr th:only-of-type {\n",
       "        vertical-align: middle;\n",
       "    }\n",
       "\n",
       "    .dataframe tbody tr th {\n",
       "        vertical-align: top;\n",
       "    }\n",
       "\n",
       "    .dataframe thead th {\n",
       "        text-align: right;\n",
       "    }\n",
       "</style>\n",
       "<table border=\"1\" class=\"dataframe\">\n",
       "  <thead>\n",
       "    <tr style=\"text-align: right;\">\n",
       "      <th></th>\n",
       "      <th>LC</th>\n",
       "      <th>PI</th>\n",
       "      <th>Seal</th>\n",
       "      <th>value</th>\n",
       "      <th>value remark</th>\n",
       "      <th>condition</th>\n",
       "      <th>vender</th>\n",
       "    </tr>\n",
       "  </thead>\n",
       "  <tbody>\n",
       "    <tr>\n",
       "      <th>0</th>\n",
       "      <td>LCT-15-1098</td>\n",
       "      <td>RB005</td>\n",
       "      <td>723K1M</td>\n",
       "      <td>89.00</td>\n",
       "      <td></td>\n",
       "      <td>Before UV, V: 1.00 volt, freq: 0.60 Hz, Temper...</td>\n",
       "      <td>Merck</td>\n",
       "    </tr>\n",
       "    <tr>\n",
       "      <th>1</th>\n",
       "      <td>LCT-15-1098</td>\n",
       "      <td>RB005</td>\n",
       "      <td>7142T</td>\n",
       "      <td>83.90</td>\n",
       "      <td></td>\n",
       "      <td>Before UV, V: 1.00 volt, freq: 0.60 Hz, Temper...</td>\n",
       "      <td>Merck</td>\n",
       "    </tr>\n",
       "    <tr>\n",
       "      <th>2</th>\n",
       "      <td>LCT-15-1098</td>\n",
       "      <td>RB005</td>\n",
       "      <td>V386</td>\n",
       "      <td>79.00</td>\n",
       "      <td></td>\n",
       "      <td>Before UV, V: 1.00 volt, freq: 0.60 Hz, Temper...</td>\n",
       "      <td>Merck</td>\n",
       "    </tr>\n",
       "    <tr>\n",
       "      <th>3</th>\n",
       "      <td>LCT-17-1336</td>\n",
       "      <td>RB005</td>\n",
       "      <td>7142T</td>\n",
       "      <td>49.50</td>\n",
       "      <td></td>\n",
       "      <td>Before UV, V: 1.00 volt, freq: 0.60 Hz, Temper...</td>\n",
       "      <td>Merck</td>\n",
       "    </tr>\n",
       "    <tr>\n",
       "      <th>4</th>\n",
       "      <td>LCT-17-1336</td>\n",
       "      <td>RB005</td>\n",
       "      <td>V386</td>\n",
       "      <td>63.90</td>\n",
       "      <td></td>\n",
       "      <td>Before UV, V: 1.00 volt, freq: 0.60 Hz, Temper...</td>\n",
       "      <td>Merck</td>\n",
       "    </tr>\n",
       "    <tr>\n",
       "      <th>5</th>\n",
       "      <td>LCT-15-1098</td>\n",
       "      <td>RB005</td>\n",
       "      <td>V386</td>\n",
       "      <td>82.00</td>\n",
       "      <td></td>\n",
       "      <td>Before UV, V: 1.00 volt, freq: 0.60 Hz, Temper...</td>\n",
       "      <td>Merck</td>\n",
       "    </tr>\n",
       "    <tr>\n",
       "      <th>6</th>\n",
       "      <td>LCT-17-1336</td>\n",
       "      <td>RB005</td>\n",
       "      <td>7142T</td>\n",
       "      <td>81.70</td>\n",
       "      <td></td>\n",
       "      <td>Before UV, V: 1.00 volt, freq: 0.60 Hz, Temper...</td>\n",
       "      <td>協立</td>\n",
       "    </tr>\n",
       "    <tr>\n",
       "      <th>7</th>\n",
       "      <td>LCT-17-1336</td>\n",
       "      <td>RB005</td>\n",
       "      <td>7142T</td>\n",
       "      <td>91.30</td>\n",
       "      <td></td>\n",
       "      <td>Before UV, V: 5.00 volt, freq: 0.60 Hz, Temper...</td>\n",
       "      <td>協立</td>\n",
       "    </tr>\n",
       "    <tr>\n",
       "      <th>8</th>\n",
       "      <td>SLC19V33</td>\n",
       "      <td>RB005</td>\n",
       "      <td>7142T</td>\n",
       "      <td>84.70</td>\n",
       "      <td></td>\n",
       "      <td>Before UV, V: 1.00 volt, freq: 0.60 Hz, Temper...</td>\n",
       "      <td>協立</td>\n",
       "    </tr>\n",
       "    <tr>\n",
       "      <th>9</th>\n",
       "      <td>SLC19V33</td>\n",
       "      <td>RB005</td>\n",
       "      <td>7142T</td>\n",
       "      <td>91.60</td>\n",
       "      <td></td>\n",
       "      <td>Before UV, V: 5.00 volt, freq: 0.60 Hz, Temper...</td>\n",
       "      <td>協立</td>\n",
       "    </tr>\n",
       "    <tr>\n",
       "      <th>10</th>\n",
       "      <td>LCT-19-580</td>\n",
       "      <td>RB005</td>\n",
       "      <td>7142T</td>\n",
       "      <td>83.70</td>\n",
       "      <td></td>\n",
       "      <td>Before UV, V: 1.00 volt, freq: 0.60 Hz, Temper...</td>\n",
       "      <td>協立</td>\n",
       "    </tr>\n",
       "    <tr>\n",
       "      <th>11</th>\n",
       "      <td>LCT-19-580</td>\n",
       "      <td>RB005</td>\n",
       "      <td>7142T</td>\n",
       "      <td>91.60</td>\n",
       "      <td></td>\n",
       "      <td>Before UV, V: 5.00 volt, freq: 0.60 Hz, Temper...</td>\n",
       "      <td>協立</td>\n",
       "    </tr>\n",
       "    <tr>\n",
       "      <th>12</th>\n",
       "      <td>LCT-15-1098</td>\n",
       "      <td>RB205</td>\n",
       "      <td>V386</td>\n",
       "      <td>32.00</td>\n",
       "      <td></td>\n",
       "      <td>Before UV, V: 1.00 volt, freq: 0.60 Hz, Temper...</td>\n",
       "      <td>三井</td>\n",
       "    </tr>\n",
       "    <tr>\n",
       "      <th>13</th>\n",
       "      <td>LCT-17-1336</td>\n",
       "      <td>RB205</td>\n",
       "      <td>V386</td>\n",
       "      <td>19.50</td>\n",
       "      <td></td>\n",
       "      <td>Before UV, V: 1.00 volt, freq: 0.60 Hz, Temper...</td>\n",
       "      <td>三井</td>\n",
       "    </tr>\n",
       "    <tr>\n",
       "      <th>14</th>\n",
       "      <td>SLC19V33</td>\n",
       "      <td>RB205</td>\n",
       "      <td>V386</td>\n",
       "      <td>36.20</td>\n",
       "      <td></td>\n",
       "      <td>Before UV, V: 1.00 volt, freq: 0.60 Hz, Temper...</td>\n",
       "      <td>三井</td>\n",
       "    </tr>\n",
       "    <tr>\n",
       "      <th>15</th>\n",
       "      <td>LCT-15-1098</td>\n",
       "      <td>RB205</td>\n",
       "      <td>723K1M</td>\n",
       "      <td>29.00</td>\n",
       "      <td></td>\n",
       "      <td>Before UV, V: 1.00 volt, freq: 0.60 Hz, Temper...</td>\n",
       "      <td>三井</td>\n",
       "    </tr>\n",
       "    <tr>\n",
       "      <th>16</th>\n",
       "      <td>LCT-17-1336</td>\n",
       "      <td>RB205</td>\n",
       "      <td>723K1M</td>\n",
       "      <td>18.60</td>\n",
       "      <td></td>\n",
       "      <td>Before UV, V: 1.00 volt, freq: 0.60 Hz, Temper...</td>\n",
       "      <td>三井</td>\n",
       "    </tr>\n",
       "    <tr>\n",
       "      <th>17</th>\n",
       "      <td>SLC19V33</td>\n",
       "      <td>RB205</td>\n",
       "      <td>723K1M</td>\n",
       "      <td>34.90</td>\n",
       "      <td></td>\n",
       "      <td>Before UV, V: 1.00 volt, freq: 0.60 Hz, Temper...</td>\n",
       "      <td>三井</td>\n",
       "    </tr>\n",
       "    <tr>\n",
       "      <th>18</th>\n",
       "      <td>SLC19V33</td>\n",
       "      <td>RB005</td>\n",
       "      <td>V386</td>\n",
       "      <td>30.50</td>\n",
       "      <td></td>\n",
       "      <td>Before UV, V: 1.00 volt, freq: 0.60 Hz, Temper...</td>\n",
       "      <td>三井</td>\n",
       "    </tr>\n",
       "    <tr>\n",
       "      <th>19</th>\n",
       "      <td>SLC19V33</td>\n",
       "      <td>RB005</td>\n",
       "      <td>723K1M</td>\n",
       "      <td>28.90</td>\n",
       "      <td></td>\n",
       "      <td>Before UV, V: 1.00 volt, freq: 0.60 Hz, Temper...</td>\n",
       "      <td>三井</td>\n",
       "    </tr>\n",
       "    <tr>\n",
       "      <th>20</th>\n",
       "      <td>SLC19V33</td>\n",
       "      <td>RB005</td>\n",
       "      <td>7142T</td>\n",
       "      <td>29.10</td>\n",
       "      <td></td>\n",
       "      <td>Before UV, V: 1.00 volt, freq: 0.60 Hz, Temper...</td>\n",
       "      <td>三井</td>\n",
       "    </tr>\n",
       "    <tr>\n",
       "      <th>21</th>\n",
       "      <td>LCT-17-1336</td>\n",
       "      <td>RB005</td>\n",
       "      <td>7142T</td>\n",
       "      <td>77.60</td>\n",
       "      <td></td>\n",
       "      <td>Before UV, V: 1.00 volt, freq: 0.60 Hz, Temper...</td>\n",
       "      <td>協立</td>\n",
       "    </tr>\n",
       "    <tr>\n",
       "      <th>22</th>\n",
       "      <td>SLC19V33</td>\n",
       "      <td>RB005</td>\n",
       "      <td>7142T</td>\n",
       "      <td>78.50</td>\n",
       "      <td></td>\n",
       "      <td>Before UV, V: 1.00 volt, freq: 0.60 Hz, Temper...</td>\n",
       "      <td>協立</td>\n",
       "    </tr>\n",
       "    <tr>\n",
       "      <th>23</th>\n",
       "      <td>LCT-17-1336</td>\n",
       "      <td>RB005</td>\n",
       "      <td>723K1M</td>\n",
       "      <td>81.00</td>\n",
       "      <td></td>\n",
       "      <td>Before UV, V: 1.00 volt, freq: 0.60 Hz, Temper...</td>\n",
       "      <td>協立</td>\n",
       "    </tr>\n",
       "    <tr>\n",
       "      <th>24</th>\n",
       "      <td>LCT-17-1336</td>\n",
       "      <td>RB005</td>\n",
       "      <td>7142T</td>\n",
       "      <td>79.00</td>\n",
       "      <td></td>\n",
       "      <td>Before UV, V: 1.00 volt, freq: 0.60 Hz, Temper...</td>\n",
       "      <td>協立</td>\n",
       "    </tr>\n",
       "    <tr>\n",
       "      <th>25</th>\n",
       "      <td>LCT-15-1098</td>\n",
       "      <td>RB005</td>\n",
       "      <td>723K1M</td>\n",
       "      <td>92.56</td>\n",
       "      <td></td>\n",
       "      <td>Before UV, V: 1.00 volt, freq: 0.60 Hz, Temper...</td>\n",
       "      <td>協立</td>\n",
       "    </tr>\n",
       "    <tr>\n",
       "      <th>26</th>\n",
       "      <td>LCT-15-1098</td>\n",
       "      <td>RB005</td>\n",
       "      <td>7142T</td>\n",
       "      <td>92.60</td>\n",
       "      <td></td>\n",
       "      <td>Before UV, V: 1.00 volt, freq: 0.60 Hz, Temper...</td>\n",
       "      <td>協立</td>\n",
       "    </tr>\n",
       "    <tr>\n",
       "      <th>27</th>\n",
       "      <td>SLC19V33</td>\n",
       "      <td>RB205</td>\n",
       "      <td>723K1M</td>\n",
       "      <td>79.90</td>\n",
       "      <td></td>\n",
       "      <td>Before UV, V: 1.00 volt, freq: 0.60 Hz, Temper...</td>\n",
       "      <td>協立</td>\n",
       "    </tr>\n",
       "    <tr>\n",
       "      <th>28</th>\n",
       "      <td>LCT-17-1336</td>\n",
       "      <td>RB205</td>\n",
       "      <td>723K1M</td>\n",
       "      <td>73.60</td>\n",
       "      <td></td>\n",
       "      <td>Before UV, V: 1.00 volt, freq: 0.60 Hz, Temper...</td>\n",
       "      <td>協立</td>\n",
       "    </tr>\n",
       "    <tr>\n",
       "      <th>29</th>\n",
       "      <td>LCT-17-1336</td>\n",
       "      <td>RB205</td>\n",
       "      <td>V386</td>\n",
       "      <td>89.70</td>\n",
       "      <td></td>\n",
       "      <td>Before UV, V: 1.00 volt, freq: 0.60 Hz, Temper...</td>\n",
       "      <td>Nissan</td>\n",
       "    </tr>\n",
       "    <tr>\n",
       "      <th>30</th>\n",
       "      <td>LCT-19-580</td>\n",
       "      <td>RB005</td>\n",
       "      <td>V386</td>\n",
       "      <td>96.80</td>\n",
       "      <td></td>\n",
       "      <td>Before UV, V: 1.00 volt, freq: 0.60 Hz, Temper...</td>\n",
       "      <td>Nissan</td>\n",
       "    </tr>\n",
       "  </tbody>\n",
       "</table>\n",
       "</div>"
      ],
      "text/plain": [
       "             LC     PI    Seal  value value remark  \\\n",
       "0   LCT-15-1098  RB005  723K1M  89.00                \n",
       "1   LCT-15-1098  RB005   7142T  83.90                \n",
       "2   LCT-15-1098  RB005    V386  79.00                \n",
       "3   LCT-17-1336  RB005   7142T  49.50                \n",
       "4   LCT-17-1336  RB005    V386  63.90                \n",
       "5   LCT-15-1098  RB005    V386  82.00                \n",
       "6   LCT-17-1336  RB005   7142T  81.70                \n",
       "7   LCT-17-1336  RB005   7142T  91.30                \n",
       "8      SLC19V33  RB005   7142T  84.70                \n",
       "9      SLC19V33  RB005   7142T  91.60                \n",
       "10   LCT-19-580  RB005   7142T  83.70                \n",
       "11   LCT-19-580  RB005   7142T  91.60                \n",
       "12  LCT-15-1098  RB205    V386  32.00                \n",
       "13  LCT-17-1336  RB205    V386  19.50                \n",
       "14     SLC19V33  RB205    V386  36.20                \n",
       "15  LCT-15-1098  RB205  723K1M  29.00                \n",
       "16  LCT-17-1336  RB205  723K1M  18.60                \n",
       "17     SLC19V33  RB205  723K1M  34.90                \n",
       "18     SLC19V33  RB005    V386  30.50                \n",
       "19     SLC19V33  RB005  723K1M  28.90                \n",
       "20     SLC19V33  RB005   7142T  29.10                \n",
       "21  LCT-17-1336  RB005   7142T  77.60                \n",
       "22     SLC19V33  RB005   7142T  78.50                \n",
       "23  LCT-17-1336  RB005  723K1M  81.00                \n",
       "24  LCT-17-1336  RB005   7142T  79.00                \n",
       "25  LCT-15-1098  RB005  723K1M  92.56                \n",
       "26  LCT-15-1098  RB005   7142T  92.60                \n",
       "27     SLC19V33  RB205  723K1M  79.90                \n",
       "28  LCT-17-1336  RB205  723K1M  73.60                \n",
       "29  LCT-17-1336  RB205    V386  89.70                \n",
       "30   LCT-19-580  RB005    V386  96.80                \n",
       "\n",
       "                                            condition  vender  \n",
       "0   Before UV, V: 1.00 volt, freq: 0.60 Hz, Temper...   Merck  \n",
       "1   Before UV, V: 1.00 volt, freq: 0.60 Hz, Temper...   Merck  \n",
       "2   Before UV, V: 1.00 volt, freq: 0.60 Hz, Temper...   Merck  \n",
       "3   Before UV, V: 1.00 volt, freq: 0.60 Hz, Temper...   Merck  \n",
       "4   Before UV, V: 1.00 volt, freq: 0.60 Hz, Temper...   Merck  \n",
       "5   Before UV, V: 1.00 volt, freq: 0.60 Hz, Temper...   Merck  \n",
       "6   Before UV, V: 1.00 volt, freq: 0.60 Hz, Temper...      協立  \n",
       "7   Before UV, V: 5.00 volt, freq: 0.60 Hz, Temper...      協立  \n",
       "8   Before UV, V: 1.00 volt, freq: 0.60 Hz, Temper...      協立  \n",
       "9   Before UV, V: 5.00 volt, freq: 0.60 Hz, Temper...      協立  \n",
       "10  Before UV, V: 1.00 volt, freq: 0.60 Hz, Temper...      協立  \n",
       "11  Before UV, V: 5.00 volt, freq: 0.60 Hz, Temper...      協立  \n",
       "12  Before UV, V: 1.00 volt, freq: 0.60 Hz, Temper...      三井  \n",
       "13  Before UV, V: 1.00 volt, freq: 0.60 Hz, Temper...      三井  \n",
       "14  Before UV, V: 1.00 volt, freq: 0.60 Hz, Temper...      三井  \n",
       "15  Before UV, V: 1.00 volt, freq: 0.60 Hz, Temper...      三井  \n",
       "16  Before UV, V: 1.00 volt, freq: 0.60 Hz, Temper...      三井  \n",
       "17  Before UV, V: 1.00 volt, freq: 0.60 Hz, Temper...      三井  \n",
       "18  Before UV, V: 1.00 volt, freq: 0.60 Hz, Temper...      三井  \n",
       "19  Before UV, V: 1.00 volt, freq: 0.60 Hz, Temper...      三井  \n",
       "20  Before UV, V: 1.00 volt, freq: 0.60 Hz, Temper...      三井  \n",
       "21  Before UV, V: 1.00 volt, freq: 0.60 Hz, Temper...      協立  \n",
       "22  Before UV, V: 1.00 volt, freq: 0.60 Hz, Temper...      協立  \n",
       "23  Before UV, V: 1.00 volt, freq: 0.60 Hz, Temper...      協立  \n",
       "24  Before UV, V: 1.00 volt, freq: 0.60 Hz, Temper...      協立  \n",
       "25  Before UV, V: 1.00 volt, freq: 0.60 Hz, Temper...      協立  \n",
       "26  Before UV, V: 1.00 volt, freq: 0.60 Hz, Temper...      協立  \n",
       "27  Before UV, V: 1.00 volt, freq: 0.60 Hz, Temper...      協立  \n",
       "28  Before UV, V: 1.00 volt, freq: 0.60 Hz, Temper...      協立  \n",
       "29  Before UV, V: 1.00 volt, freq: 0.60 Hz, Temper...  Nissan  \n",
       "30  Before UV, V: 1.00 volt, freq: 0.60 Hz, Temper...  Nissan  "
      ]
     },
     "execution_count": 21,
     "metadata": {},
     "output_type": "execute_result"
    }
   ],
   "source": [
    "valid_val = Validati\n",
    "query = VHR.objects.all()\n",
    "\n",
    "result = pd.DataFrame.from_records(query.values(\n",
    "    \"LC__name\",\n",
    "    \"PI__name\",\n",
    "    \"seal__name\",\n",
    "    \"value\",\n",
    "    \"vender__name\"\n",
    ")).rename(\n",
    "    columns={\n",
    "        \"LC__name\": \"LC\",\n",
    "        \"PI__name\": \"PI\",\n",
    "        \"seal__name\": \"Seal\",\n",
    "        \"vender__name\": \"vender\",\n",
    "    }\n",
    ")\n",
    "\n",
    "\n",
    "# value generate by customize methods\n",
    "value_remark = []\n",
    "condition = []\n",
    "\n",
    "for item in query:\n",
    "    value_remark += [item.value_remark()]\n",
    "    condition += [item.cond()]\n",
    "\n",
    "result.insert(4, 'condition', condition)\n",
    "result.insert(4, 'value remark', value_remark)\n",
    "result"
   ]
  },
  {
   "cell_type": "code",
   "execution_count": 18,
   "id": "8e3d922c",
   "metadata": {},
   "outputs": [
    {
     "data": {
      "text/plain": [
       "['',\n",
       " '',\n",
       " '',\n",
       " '',\n",
       " '',\n",
       " '',\n",
       " '',\n",
       " '',\n",
       " '',\n",
       " '',\n",
       " '',\n",
       " '',\n",
       " '',\n",
       " '',\n",
       " '',\n",
       " '',\n",
       " '',\n",
       " '',\n",
       " '',\n",
       " '',\n",
       " '',\n",
       " '',\n",
       " '',\n",
       " '',\n",
       " '',\n",
       " '',\n",
       " '',\n",
       " '',\n",
       " '',\n",
       " '',\n",
       " '']"
      ]
     },
     "execution_count": 18,
     "metadata": {},
     "output_type": "execute_result"
    }
   ],
   "source": [
    "value_remark"
   ]
  }
 ],
 "metadata": {
  "kernelspec": {
   "display_name": "Django Shell-Plus",
   "language": "python",
   "name": "django_extensions"
  },
  "language_info": {
   "codemirror_mode": {
    "name": "ipython",
    "version": 3
   },
   "file_extension": ".py",
   "mimetype": "text/x-python",
   "name": "python",
   "nbconvert_exporter": "python",
   "pygments_lexer": "ipython3",
   "version": "3.8.12"
  }
 },
 "nbformat": 4,
 "nbformat_minor": 5
}
