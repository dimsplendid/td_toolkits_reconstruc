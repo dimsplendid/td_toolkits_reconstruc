{
 "cells": [
  {
   "cell_type": "code",
   "execution_count": 1,
   "id": "d17a40f4-605d-4c10-9bb7-e78ea84076aa",
   "metadata": {},
   "outputs": [],
   "source": [
    "import os\n",
    "import sys\n",
    "\n",
    "import numpy as np\n",
    "import pandas as pd\n",
    "import plotly.express as px\n",
    "from plotly.offline import plot\n"
   ]
  },
  {
   "cell_type": "code",
   "execution_count": 2,
   "id": "b54da576-620c-49f8-b49a-55fad1cfd514",
   "metadata": {},
   "outputs": [],
   "source": [
    "import django\n",
    "# for django async setting\n",
    "os.environ.setdefault('DJANGO_SETTINGS_MODULE', 'rest.settings')\n",
    "os.environ['DJANGO_ALLOW_ASYNC_UNSAFE'] = 'true'\n",
    "django.setup()"
   ]
  },
  {
   "cell_type": "code",
   "execution_count": 3,
   "id": "ca02461a-c541-4365-982c-34b52329b7dc",
   "metadata": {},
   "outputs": [],
   "source": [
    "# my util functions\n",
    "from ra_exploer.views import filterQuery\n",
    "from utils.TR2_tools import tr2_score"
   ]
  },
  {
   "cell_type": "code",
   "execution_count": 4,
   "id": "40c05419-188b-4641-a374-56b4f8442368",
   "metadata": {},
   "outputs": [],
   "source": [
    "query = {\n",
    "    'LC': ['LCT-15-1098', 'SLC19V33', 'SLC20V87', '843001', 'ZIX-7054XX', 'N.A.'],\n",
    "    'PI': ['ALL'],\n",
    "    'Seal': ['ALL'],\n",
    "}\n",
    "\n",
    "vhr_df, vhr_mean_df = filterQuery(query, VHR)\n",
    "adhesion_df, adhesion_mean_df = filterQuery(query, Adhesion)\n",
    "lts_df, lts_mean_df = filterQuery(query, LowTemperatureStorage)\n",
    "delta_angle_df, delta_angle_mean_df = filterQuery(\n",
    "                query, DeltaAngle, 'lt')\n",
    "pct_df, pct_mean_df = filterQuery(query, PressureCookingTest)\n",
    "sealwvtr_df, sealwvtr_mean_df = filterQuery(query, SealWVTR)\n"
   ]
  },
  {
   "cell_type": "code",
   "execution_count": 5,
   "id": "945f609e-adf5-4489-9142-82df5b7db370",
   "metadata": {},
   "outputs": [],
   "source": [
    "df_LC = pd.DataFrame({'LC': ['LCT-15-1098', 'SLC19V33', 'LCT-19-580']})\n",
    "df_PI = pd.DataFrame({'PI': ['RB005', 'RB205']})\n",
    "df_seal = pd.DataFrame({'Seal': ['723K1M', '7142T', 'V386']})"
   ]
  },
  {
   "cell_type": "code",
   "execution_count": 6,
   "id": "f07ff7a1-0bc5-4dfa-a84d-39fd8d1ce130",
   "metadata": {},
   "outputs": [],
   "source": [
    "df_LC_PI = df_LC.merge(df_PI, how='cross')\n",
    "df = df_LC_PI.merge(df_seal, how='cross')"
   ]
  },
  {
   "cell_type": "code",
   "execution_count": 20,
   "id": "2ef3fbbf-3c97-47db-99d3-dfc640fbf8c2",
   "metadata": {},
   "outputs": [
    {
     "data": {
      "text/plain": [
       "163.0"
      ]
     },
     "execution_count": 20,
     "metadata": {},
     "output_type": "execute_result"
    }
   ],
   "source": [
    "adhesion_mean_df['score'].sum()"
   ]
  },
  {
   "cell_type": "code",
   "execution_count": 21,
   "id": "e9bf81e5-2d76-4872-a56f-439fe8fd1d61",
   "metadata": {},
   "outputs": [],
   "source": [
    "def is_worth_df(df):\n",
    "    return not(df.empty or (df['score'].sum() == 0))\n",
    "if is_worth_df(adhesion_mean_df):\n",
    "    adhesion_mean_df = adhesion_mean_df.groupby(by=['PI', 'Seal'], as_index=False).mean()\n",
    "    df = df.merge(adhesion_mean_df[['PI', 'Seal', 'score']], on=['PI', 'Seal'], how='left').rename(columns={'score': 'Adhesion'})\n",
    "if is_worth_df(delta_angle_mean_df):\n",
    "    delta_angle_mean_df = delta_angle_mean_df.groupby(by=['LC', 'PI'], as_index=False).mean()\n",
    "    df = df.merge(delta_angle_mean_df[['LC', 'PI', 'score']], on=['LC', 'PI'], how='left').rename(columns={'score': 'Δ angle'})\n",
    "if is_worth_df(vhr_mean_df):\n",
    "    vhr_mean_df = vhr_mean_df.groupby(by=['LC', 'PI', 'Seal'], as_index=False).mean()\n",
    "    df = df.merge(vhr_mean_df[['LC', 'PI', 'Seal', 'score']], on=['LC', 'PI', 'Seal'], how='left').rename(columns={'score': 'VHR'})\n",
    "if is_worth_df(lts_mean_df):\n",
    "    lts_mean_df = lts_mean_df.groupby(by=['LC'], as_index=False).mean()\n",
    "    df = df.merge(lts_mean_df[['LC', 'score']], on=['LC'], how='left').rename(columns={'score': 'LTS'})\n",
    "if is_worth_df(pct_mean_df):\n",
    "    pct_mean_df = pct_mean_df.groupby(by=['LC', 'PI', 'Seal'], as_index=False).mean()\n",
    "    df = df.merge(pct_mean_df[['LC', 'PI', 'Seal', 'score']], on=['LC', 'PI', 'Seal'], how='left').rename(columns={'score': 'PCT'})\n",
    "if is_worth_df(sealwvtr_mean_df):\n",
    "    sealwvtr_mean_df = sealwvtr_mean_df.groupby(by=['Seal'], as_index=False).mean()\n",
    "    df = df.merge(sealwvtr_mean_df[['Seal', 'score']], on=['Seal'], how='left').rename(columns={'score': 'Seal WVTR'})\n",
    "            "
   ]
  },
  {
   "cell_type": "code",
   "execution_count": 34,
   "id": "87583d78-1df7-4800-a047-094ac6b32884",
   "metadata": {},
   "outputs": [
    {
     "data": {
      "text/plain": [
       "['Adhesion', 'VHR', 'LTS', 'PCT', 'Seal WVTR', 'Sum']"
      ]
     },
     "execution_count": 34,
     "metadata": {},
     "output_type": "execute_result"
    }
   ],
   "source": [
    "list(df.columns[3:]) + ['Sum']"
   ]
  },
  {
   "cell_type": "code",
   "execution_count": 60,
   "id": "5c162074-df9a-4d8e-bfe6-10f983495d14",
   "metadata": {},
   "outputs": [],
   "source": [
    "# df.info()\n",
    "df_fill0 = df.fillna(0)\n",
    "df_fill0['Sum'] = df_fill0[['Adhesion', 'VHR', 'LTS', 'PCT', 'Seal WVTR']].sum(axis=1)\n",
    "df_fill0 = df_fill0.sort_values(by='Sum', ascending=False)"
   ]
  },
  {
   "cell_type": "code",
   "execution_count": 61,
   "id": "32bf5630-aef8-4d5d-aac0-c73630119004",
   "metadata": {},
   "outputs": [
    {
     "data": {
      "text/html": [
       "<div>\n",
       "<style scoped>\n",
       "    .dataframe tbody tr th:only-of-type {\n",
       "        vertical-align: middle;\n",
       "    }\n",
       "\n",
       "    .dataframe tbody tr th {\n",
       "        vertical-align: top;\n",
       "    }\n",
       "\n",
       "    .dataframe thead th {\n",
       "        text-align: right;\n",
       "    }\n",
       "</style>\n",
       "<table border=\"1\" class=\"dataframe\">\n",
       "  <thead>\n",
       "    <tr style=\"text-align: right;\">\n",
       "      <th></th>\n",
       "      <th>LC</th>\n",
       "      <th>PI</th>\n",
       "      <th>Seal</th>\n",
       "      <th>Adhesion</th>\n",
       "      <th>Δ angle</th>\n",
       "      <th>VHR</th>\n",
       "      <th>LTS</th>\n",
       "      <th>PCT</th>\n",
       "      <th>Seal WVTR</th>\n",
       "      <th>Sum</th>\n",
       "    </tr>\n",
       "  </thead>\n",
       "  <tbody>\n",
       "    <tr>\n",
       "      <th>14</th>\n",
       "      <td>LCT-19-580</td>\n",
       "      <td>RB005</td>\n",
       "      <td>V386</td>\n",
       "      <td>6.000000</td>\n",
       "      <td>1.0</td>\n",
       "      <td>0.0</td>\n",
       "      <td>37.0</td>\n",
       "      <td>0.0</td>\n",
       "      <td>37.0</td>\n",
       "      <td>80.000000</td>\n",
       "    </tr>\n",
       "    <tr>\n",
       "      <th>17</th>\n",
       "      <td>LCT-19-580</td>\n",
       "      <td>RB205</td>\n",
       "      <td>V386</td>\n",
       "      <td>4.333333</td>\n",
       "      <td>28.0</td>\n",
       "      <td>0.0</td>\n",
       "      <td>37.0</td>\n",
       "      <td>0.0</td>\n",
       "      <td>37.0</td>\n",
       "      <td>78.333333</td>\n",
       "    </tr>\n",
       "    <tr>\n",
       "      <th>0</th>\n",
       "      <td>LCT-15-1098</td>\n",
       "      <td>RB005</td>\n",
       "      <td>723K1M</td>\n",
       "      <td>7.750000</td>\n",
       "      <td>0.0</td>\n",
       "      <td>37.0</td>\n",
       "      <td>1.0</td>\n",
       "      <td>0.0</td>\n",
       "      <td>30.0</td>\n",
       "      <td>75.750000</td>\n",
       "    </tr>\n",
       "    <tr>\n",
       "      <th>12</th>\n",
       "      <td>LCT-19-580</td>\n",
       "      <td>RB005</td>\n",
       "      <td>723K1M</td>\n",
       "      <td>7.750000</td>\n",
       "      <td>1.0</td>\n",
       "      <td>0.0</td>\n",
       "      <td>37.0</td>\n",
       "      <td>0.0</td>\n",
       "      <td>30.0</td>\n",
       "      <td>74.750000</td>\n",
       "    </tr>\n",
       "    <tr>\n",
       "      <th>15</th>\n",
       "      <td>LCT-19-580</td>\n",
       "      <td>RB205</td>\n",
       "      <td>723K1M</td>\n",
       "      <td>2.666667</td>\n",
       "      <td>28.0</td>\n",
       "      <td>0.0</td>\n",
       "      <td>37.0</td>\n",
       "      <td>0.0</td>\n",
       "      <td>30.0</td>\n",
       "      <td>69.666667</td>\n",
       "    </tr>\n",
       "    <tr>\n",
       "      <th>8</th>\n",
       "      <td>SLC19V33</td>\n",
       "      <td>RB005</td>\n",
       "      <td>V386</td>\n",
       "      <td>6.000000</td>\n",
       "      <td>0.0</td>\n",
       "      <td>0.0</td>\n",
       "      <td>19.0</td>\n",
       "      <td>0.0</td>\n",
       "      <td>37.0</td>\n",
       "      <td>62.000000</td>\n",
       "    </tr>\n",
       "    <tr>\n",
       "      <th>11</th>\n",
       "      <td>SLC19V33</td>\n",
       "      <td>RB205</td>\n",
       "      <td>V386</td>\n",
       "      <td>4.333333</td>\n",
       "      <td>0.0</td>\n",
       "      <td>0.0</td>\n",
       "      <td>19.0</td>\n",
       "      <td>0.0</td>\n",
       "      <td>37.0</td>\n",
       "      <td>60.333333</td>\n",
       "    </tr>\n",
       "    <tr>\n",
       "      <th>13</th>\n",
       "      <td>LCT-19-580</td>\n",
       "      <td>RB005</td>\n",
       "      <td>7142T</td>\n",
       "      <td>8.000000</td>\n",
       "      <td>1.0</td>\n",
       "      <td>0.0</td>\n",
       "      <td>37.0</td>\n",
       "      <td>0.0</td>\n",
       "      <td>12.0</td>\n",
       "      <td>57.000000</td>\n",
       "    </tr>\n",
       "    <tr>\n",
       "      <th>6</th>\n",
       "      <td>SLC19V33</td>\n",
       "      <td>RB005</td>\n",
       "      <td>723K1M</td>\n",
       "      <td>7.750000</td>\n",
       "      <td>0.0</td>\n",
       "      <td>0.0</td>\n",
       "      <td>19.0</td>\n",
       "      <td>0.0</td>\n",
       "      <td>30.0</td>\n",
       "      <td>56.750000</td>\n",
       "    </tr>\n",
       "    <tr>\n",
       "      <th>5</th>\n",
       "      <td>LCT-15-1098</td>\n",
       "      <td>RB205</td>\n",
       "      <td>V386</td>\n",
       "      <td>4.333333</td>\n",
       "      <td>0.0</td>\n",
       "      <td>0.0</td>\n",
       "      <td>1.0</td>\n",
       "      <td>10.0</td>\n",
       "      <td>37.0</td>\n",
       "      <td>52.333333</td>\n",
       "    </tr>\n",
       "  </tbody>\n",
       "</table>\n",
       "</div>"
      ],
      "text/plain": [
       "             LC     PI    Seal  Adhesion  Δ angle   VHR   LTS   PCT  \\\n",
       "14   LCT-19-580  RB005    V386  6.000000      1.0   0.0  37.0   0.0   \n",
       "17   LCT-19-580  RB205    V386  4.333333     28.0   0.0  37.0   0.0   \n",
       "0   LCT-15-1098  RB005  723K1M  7.750000      0.0  37.0   1.0   0.0   \n",
       "12   LCT-19-580  RB005  723K1M  7.750000      1.0   0.0  37.0   0.0   \n",
       "15   LCT-19-580  RB205  723K1M  2.666667     28.0   0.0  37.0   0.0   \n",
       "8      SLC19V33  RB005    V386  6.000000      0.0   0.0  19.0   0.0   \n",
       "11     SLC19V33  RB205    V386  4.333333      0.0   0.0  19.0   0.0   \n",
       "13   LCT-19-580  RB005   7142T  8.000000      1.0   0.0  37.0   0.0   \n",
       "6      SLC19V33  RB005  723K1M  7.750000      0.0   0.0  19.0   0.0   \n",
       "5   LCT-15-1098  RB205    V386  4.333333      0.0   0.0   1.0  10.0   \n",
       "\n",
       "    Seal WVTR        Sum  \n",
       "14       37.0  80.000000  \n",
       "17       37.0  78.333333  \n",
       "0        30.0  75.750000  \n",
       "12       30.0  74.750000  \n",
       "15       30.0  69.666667  \n",
       "8        37.0  62.000000  \n",
       "11       37.0  60.333333  \n",
       "13       12.0  57.000000  \n",
       "6        30.0  56.750000  \n",
       "5        37.0  52.333333  "
      ]
     },
     "execution_count": 61,
     "metadata": {},
     "output_type": "execute_result"
    }
   ],
   "source": [
    "df_fill0[:10]"
   ]
  },
  {
   "cell_type": "code",
   "execution_count": 62,
   "id": "b42299ac-9a11-419e-ac40-6fa3fd49e027",
   "metadata": {},
   "outputs": [],
   "source": [
    "df_fill0['Configuration'] = df_fill0['LC'] + ' ' + df_fill0['PI'] + ' ' + df_fill0['Seal']"
   ]
  },
  {
   "cell_type": "code",
   "execution_count": 67,
   "id": "ca5a317b-8019-4a85-8a72-1006cfcecb2c",
   "metadata": {},
   "outputs": [],
   "source": [
    "ra_plot_df = df_fill0[:10] \\\n",
    "    .set_index('Configuration')[['Adhesion', 'VHR', 'LTS', 'PCT', 'Seal WVTR', 'Sum']] \\\n",
    "    .unstack() \\\n",
    "    .reset_index() \\\n",
    "    .rename(columns={'level_0': 'Item', 0: 'Score'})"
   ]
  },
  {
   "cell_type": "code",
   "execution_count": 68,
   "id": "ec2f60c0-7517-4df7-bed8-e399ed5dcb15",
   "metadata": {},
   "outputs": [
    {
     "data": {
      "application/vnd.plotly.v1+json": {
       "config": {
        "plotlyServerURL": "https://plot.ly"
       },
       "data": [
        {
         "alignmentgroup": "True",
         "hovertemplate": "Configuration=LCT-19-580 RB005 V386<br>Item=%{x}<br>Score=%{y}<extra></extra>",
         "legendgroup": "LCT-19-580 RB005 V386",
         "marker": {
          "color": "#636efa",
          "pattern": {
           "shape": ""
          }
         },
         "name": "LCT-19-580 RB005 V386",
         "offsetgroup": "LCT-19-580 RB005 V386",
         "orientation": "v",
         "showlegend": true,
         "textposition": "auto",
         "type": "bar",
         "x": [
          "Adhesion",
          "VHR",
          "LTS",
          "PCT",
          "Seal WVTR",
          "Sum"
         ],
         "xaxis": "x",
         "y": [
          6,
          0,
          37,
          0,
          37,
          80
         ],
         "yaxis": "y"
        },
        {
         "alignmentgroup": "True",
         "hovertemplate": "Configuration=LCT-19-580 RB205 V386<br>Item=%{x}<br>Score=%{y}<extra></extra>",
         "legendgroup": "LCT-19-580 RB205 V386",
         "marker": {
          "color": "#EF553B",
          "pattern": {
           "shape": ""
          }
         },
         "name": "LCT-19-580 RB205 V386",
         "offsetgroup": "LCT-19-580 RB205 V386",
         "orientation": "v",
         "showlegend": true,
         "textposition": "auto",
         "type": "bar",
         "x": [
          "Adhesion",
          "VHR",
          "LTS",
          "PCT",
          "Seal WVTR",
          "Sum"
         ],
         "xaxis": "x",
         "y": [
          4.333333333333333,
          0,
          37,
          0,
          37,
          78.33333333333334
         ],
         "yaxis": "y"
        },
        {
         "alignmentgroup": "True",
         "hovertemplate": "Configuration=LCT-15-1098 RB005 723K1M<br>Item=%{x}<br>Score=%{y}<extra></extra>",
         "legendgroup": "LCT-15-1098 RB005 723K1M",
         "marker": {
          "color": "#00cc96",
          "pattern": {
           "shape": ""
          }
         },
         "name": "LCT-15-1098 RB005 723K1M",
         "offsetgroup": "LCT-15-1098 RB005 723K1M",
         "orientation": "v",
         "showlegend": true,
         "textposition": "auto",
         "type": "bar",
         "x": [
          "Adhesion",
          "VHR",
          "LTS",
          "PCT",
          "Seal WVTR",
          "Sum"
         ],
         "xaxis": "x",
         "y": [
          7.75,
          37,
          1,
          0,
          30,
          75.75
         ],
         "yaxis": "y"
        },
        {
         "alignmentgroup": "True",
         "hovertemplate": "Configuration=LCT-19-580 RB005 723K1M<br>Item=%{x}<br>Score=%{y}<extra></extra>",
         "legendgroup": "LCT-19-580 RB005 723K1M",
         "marker": {
          "color": "#ab63fa",
          "pattern": {
           "shape": ""
          }
         },
         "name": "LCT-19-580 RB005 723K1M",
         "offsetgroup": "LCT-19-580 RB005 723K1M",
         "orientation": "v",
         "showlegend": true,
         "textposition": "auto",
         "type": "bar",
         "x": [
          "Adhesion",
          "VHR",
          "LTS",
          "PCT",
          "Seal WVTR",
          "Sum"
         ],
         "xaxis": "x",
         "y": [
          7.75,
          0,
          37,
          0,
          30,
          74.75
         ],
         "yaxis": "y"
        },
        {
         "alignmentgroup": "True",
         "hovertemplate": "Configuration=LCT-19-580 RB205 723K1M<br>Item=%{x}<br>Score=%{y}<extra></extra>",
         "legendgroup": "LCT-19-580 RB205 723K1M",
         "marker": {
          "color": "#FFA15A",
          "pattern": {
           "shape": ""
          }
         },
         "name": "LCT-19-580 RB205 723K1M",
         "offsetgroup": "LCT-19-580 RB205 723K1M",
         "orientation": "v",
         "showlegend": true,
         "textposition": "auto",
         "type": "bar",
         "x": [
          "Adhesion",
          "VHR",
          "LTS",
          "PCT",
          "Seal WVTR",
          "Sum"
         ],
         "xaxis": "x",
         "y": [
          2.6666666666666665,
          0,
          37,
          0,
          30,
          69.66666666666666
         ],
         "yaxis": "y"
        },
        {
         "alignmentgroup": "True",
         "hovertemplate": "Configuration=SLC19V33 RB005 V386<br>Item=%{x}<br>Score=%{y}<extra></extra>",
         "legendgroup": "SLC19V33 RB005 V386",
         "marker": {
          "color": "#19d3f3",
          "pattern": {
           "shape": ""
          }
         },
         "name": "SLC19V33 RB005 V386",
         "offsetgroup": "SLC19V33 RB005 V386",
         "orientation": "v",
         "showlegend": true,
         "textposition": "auto",
         "type": "bar",
         "x": [
          "Adhesion",
          "VHR",
          "LTS",
          "PCT",
          "Seal WVTR",
          "Sum"
         ],
         "xaxis": "x",
         "y": [
          6,
          0,
          19,
          0,
          37,
          62
         ],
         "yaxis": "y"
        },
        {
         "alignmentgroup": "True",
         "hovertemplate": "Configuration=SLC19V33 RB205 V386<br>Item=%{x}<br>Score=%{y}<extra></extra>",
         "legendgroup": "SLC19V33 RB205 V386",
         "marker": {
          "color": "#FF6692",
          "pattern": {
           "shape": ""
          }
         },
         "name": "SLC19V33 RB205 V386",
         "offsetgroup": "SLC19V33 RB205 V386",
         "orientation": "v",
         "showlegend": true,
         "textposition": "auto",
         "type": "bar",
         "x": [
          "Adhesion",
          "VHR",
          "LTS",
          "PCT",
          "Seal WVTR",
          "Sum"
         ],
         "xaxis": "x",
         "y": [
          4.333333333333333,
          0,
          19,
          0,
          37,
          60.33333333333333
         ],
         "yaxis": "y"
        },
        {
         "alignmentgroup": "True",
         "hovertemplate": "Configuration=LCT-19-580 RB005 7142T<br>Item=%{x}<br>Score=%{y}<extra></extra>",
         "legendgroup": "LCT-19-580 RB005 7142T",
         "marker": {
          "color": "#B6E880",
          "pattern": {
           "shape": ""
          }
         },
         "name": "LCT-19-580 RB005 7142T",
         "offsetgroup": "LCT-19-580 RB005 7142T",
         "orientation": "v",
         "showlegend": true,
         "textposition": "auto",
         "type": "bar",
         "x": [
          "Adhesion",
          "VHR",
          "LTS",
          "PCT",
          "Seal WVTR",
          "Sum"
         ],
         "xaxis": "x",
         "y": [
          8,
          0,
          37,
          0,
          12,
          57
         ],
         "yaxis": "y"
        },
        {
         "alignmentgroup": "True",
         "hovertemplate": "Configuration=SLC19V33 RB005 723K1M<br>Item=%{x}<br>Score=%{y}<extra></extra>",
         "legendgroup": "SLC19V33 RB005 723K1M",
         "marker": {
          "color": "#FF97FF",
          "pattern": {
           "shape": ""
          }
         },
         "name": "SLC19V33 RB005 723K1M",
         "offsetgroup": "SLC19V33 RB005 723K1M",
         "orientation": "v",
         "showlegend": true,
         "textposition": "auto",
         "type": "bar",
         "x": [
          "Adhesion",
          "VHR",
          "LTS",
          "PCT",
          "Seal WVTR",
          "Sum"
         ],
         "xaxis": "x",
         "y": [
          7.75,
          0,
          19,
          0,
          30,
          56.75
         ],
         "yaxis": "y"
        },
        {
         "alignmentgroup": "True",
         "hovertemplate": "Configuration=LCT-15-1098 RB205 V386<br>Item=%{x}<br>Score=%{y}<extra></extra>",
         "legendgroup": "LCT-15-1098 RB205 V386",
         "marker": {
          "color": "#FECB52",
          "pattern": {
           "shape": ""
          }
         },
         "name": "LCT-15-1098 RB205 V386",
         "offsetgroup": "LCT-15-1098 RB205 V386",
         "orientation": "v",
         "showlegend": true,
         "textposition": "auto",
         "type": "bar",
         "x": [
          "Adhesion",
          "VHR",
          "LTS",
          "PCT",
          "Seal WVTR",
          "Sum"
         ],
         "xaxis": "x",
         "y": [
          4.333333333333333,
          0,
          1,
          10,
          37,
          52.33333333333333
         ],
         "yaxis": "y"
        }
       ],
       "layout": {
        "autosize": true,
        "barmode": "group",
        "legend": {
         "title": {
          "text": "Configuration"
         },
         "tracegroupgap": 0
        },
        "margin": {
         "t": 60
        },
        "template": {
         "data": {
          "bar": [
           {
            "error_x": {
             "color": "#2a3f5f"
            },
            "error_y": {
             "color": "#2a3f5f"
            },
            "marker": {
             "line": {
              "color": "#E5ECF6",
              "width": 0.5
             },
             "pattern": {
              "fillmode": "overlay",
              "size": 10,
              "solidity": 0.2
             }
            },
            "type": "bar"
           }
          ],
          "barpolar": [
           {
            "marker": {
             "line": {
              "color": "#E5ECF6",
              "width": 0.5
             },
             "pattern": {
              "fillmode": "overlay",
              "size": 10,
              "solidity": 0.2
             }
            },
            "type": "barpolar"
           }
          ],
          "carpet": [
           {
            "aaxis": {
             "endlinecolor": "#2a3f5f",
             "gridcolor": "white",
             "linecolor": "white",
             "minorgridcolor": "white",
             "startlinecolor": "#2a3f5f"
            },
            "baxis": {
             "endlinecolor": "#2a3f5f",
             "gridcolor": "white",
             "linecolor": "white",
             "minorgridcolor": "white",
             "startlinecolor": "#2a3f5f"
            },
            "type": "carpet"
           }
          ],
          "choropleth": [
           {
            "colorbar": {
             "outlinewidth": 0,
             "ticks": ""
            },
            "type": "choropleth"
           }
          ],
          "contour": [
           {
            "colorbar": {
             "outlinewidth": 0,
             "ticks": ""
            },
            "colorscale": [
             [
              0,
              "#0d0887"
             ],
             [
              0.1111111111111111,
              "#46039f"
             ],
             [
              0.2222222222222222,
              "#7201a8"
             ],
             [
              0.3333333333333333,
              "#9c179e"
             ],
             [
              0.4444444444444444,
              "#bd3786"
             ],
             [
              0.5555555555555556,
              "#d8576b"
             ],
             [
              0.6666666666666666,
              "#ed7953"
             ],
             [
              0.7777777777777778,
              "#fb9f3a"
             ],
             [
              0.8888888888888888,
              "#fdca26"
             ],
             [
              1,
              "#f0f921"
             ]
            ],
            "type": "contour"
           }
          ],
          "contourcarpet": [
           {
            "colorbar": {
             "outlinewidth": 0,
             "ticks": ""
            },
            "type": "contourcarpet"
           }
          ],
          "heatmap": [
           {
            "colorbar": {
             "outlinewidth": 0,
             "ticks": ""
            },
            "colorscale": [
             [
              0,
              "#0d0887"
             ],
             [
              0.1111111111111111,
              "#46039f"
             ],
             [
              0.2222222222222222,
              "#7201a8"
             ],
             [
              0.3333333333333333,
              "#9c179e"
             ],
             [
              0.4444444444444444,
              "#bd3786"
             ],
             [
              0.5555555555555556,
              "#d8576b"
             ],
             [
              0.6666666666666666,
              "#ed7953"
             ],
             [
              0.7777777777777778,
              "#fb9f3a"
             ],
             [
              0.8888888888888888,
              "#fdca26"
             ],
             [
              1,
              "#f0f921"
             ]
            ],
            "type": "heatmap"
           }
          ],
          "heatmapgl": [
           {
            "colorbar": {
             "outlinewidth": 0,
             "ticks": ""
            },
            "colorscale": [
             [
              0,
              "#0d0887"
             ],
             [
              0.1111111111111111,
              "#46039f"
             ],
             [
              0.2222222222222222,
              "#7201a8"
             ],
             [
              0.3333333333333333,
              "#9c179e"
             ],
             [
              0.4444444444444444,
              "#bd3786"
             ],
             [
              0.5555555555555556,
              "#d8576b"
             ],
             [
              0.6666666666666666,
              "#ed7953"
             ],
             [
              0.7777777777777778,
              "#fb9f3a"
             ],
             [
              0.8888888888888888,
              "#fdca26"
             ],
             [
              1,
              "#f0f921"
             ]
            ],
            "type": "heatmapgl"
           }
          ],
          "histogram": [
           {
            "marker": {
             "pattern": {
              "fillmode": "overlay",
              "size": 10,
              "solidity": 0.2
             }
            },
            "type": "histogram"
           }
          ],
          "histogram2d": [
           {
            "colorbar": {
             "outlinewidth": 0,
             "ticks": ""
            },
            "colorscale": [
             [
              0,
              "#0d0887"
             ],
             [
              0.1111111111111111,
              "#46039f"
             ],
             [
              0.2222222222222222,
              "#7201a8"
             ],
             [
              0.3333333333333333,
              "#9c179e"
             ],
             [
              0.4444444444444444,
              "#bd3786"
             ],
             [
              0.5555555555555556,
              "#d8576b"
             ],
             [
              0.6666666666666666,
              "#ed7953"
             ],
             [
              0.7777777777777778,
              "#fb9f3a"
             ],
             [
              0.8888888888888888,
              "#fdca26"
             ],
             [
              1,
              "#f0f921"
             ]
            ],
            "type": "histogram2d"
           }
          ],
          "histogram2dcontour": [
           {
            "colorbar": {
             "outlinewidth": 0,
             "ticks": ""
            },
            "colorscale": [
             [
              0,
              "#0d0887"
             ],
             [
              0.1111111111111111,
              "#46039f"
             ],
             [
              0.2222222222222222,
              "#7201a8"
             ],
             [
              0.3333333333333333,
              "#9c179e"
             ],
             [
              0.4444444444444444,
              "#bd3786"
             ],
             [
              0.5555555555555556,
              "#d8576b"
             ],
             [
              0.6666666666666666,
              "#ed7953"
             ],
             [
              0.7777777777777778,
              "#fb9f3a"
             ],
             [
              0.8888888888888888,
              "#fdca26"
             ],
             [
              1,
              "#f0f921"
             ]
            ],
            "type": "histogram2dcontour"
           }
          ],
          "mesh3d": [
           {
            "colorbar": {
             "outlinewidth": 0,
             "ticks": ""
            },
            "type": "mesh3d"
           }
          ],
          "parcoords": [
           {
            "line": {
             "colorbar": {
              "outlinewidth": 0,
              "ticks": ""
             }
            },
            "type": "parcoords"
           }
          ],
          "pie": [
           {
            "automargin": true,
            "type": "pie"
           }
          ],
          "scatter": [
           {
            "marker": {
             "colorbar": {
              "outlinewidth": 0,
              "ticks": ""
             }
            },
            "type": "scatter"
           }
          ],
          "scatter3d": [
           {
            "line": {
             "colorbar": {
              "outlinewidth": 0,
              "ticks": ""
             }
            },
            "marker": {
             "colorbar": {
              "outlinewidth": 0,
              "ticks": ""
             }
            },
            "type": "scatter3d"
           }
          ],
          "scattercarpet": [
           {
            "marker": {
             "colorbar": {
              "outlinewidth": 0,
              "ticks": ""
             }
            },
            "type": "scattercarpet"
           }
          ],
          "scattergeo": [
           {
            "marker": {
             "colorbar": {
              "outlinewidth": 0,
              "ticks": ""
             }
            },
            "type": "scattergeo"
           }
          ],
          "scattergl": [
           {
            "marker": {
             "colorbar": {
              "outlinewidth": 0,
              "ticks": ""
             }
            },
            "type": "scattergl"
           }
          ],
          "scattermapbox": [
           {
            "marker": {
             "colorbar": {
              "outlinewidth": 0,
              "ticks": ""
             }
            },
            "type": "scattermapbox"
           }
          ],
          "scatterpolar": [
           {
            "marker": {
             "colorbar": {
              "outlinewidth": 0,
              "ticks": ""
             }
            },
            "type": "scatterpolar"
           }
          ],
          "scatterpolargl": [
           {
            "marker": {
             "colorbar": {
              "outlinewidth": 0,
              "ticks": ""
             }
            },
            "type": "scatterpolargl"
           }
          ],
          "scatterternary": [
           {
            "marker": {
             "colorbar": {
              "outlinewidth": 0,
              "ticks": ""
             }
            },
            "type": "scatterternary"
           }
          ],
          "surface": [
           {
            "colorbar": {
             "outlinewidth": 0,
             "ticks": ""
            },
            "colorscale": [
             [
              0,
              "#0d0887"
             ],
             [
              0.1111111111111111,
              "#46039f"
             ],
             [
              0.2222222222222222,
              "#7201a8"
             ],
             [
              0.3333333333333333,
              "#9c179e"
             ],
             [
              0.4444444444444444,
              "#bd3786"
             ],
             [
              0.5555555555555556,
              "#d8576b"
             ],
             [
              0.6666666666666666,
              "#ed7953"
             ],
             [
              0.7777777777777778,
              "#fb9f3a"
             ],
             [
              0.8888888888888888,
              "#fdca26"
             ],
             [
              1,
              "#f0f921"
             ]
            ],
            "type": "surface"
           }
          ],
          "table": [
           {
            "cells": {
             "fill": {
              "color": "#EBF0F8"
             },
             "line": {
              "color": "white"
             }
            },
            "header": {
             "fill": {
              "color": "#C8D4E3"
             },
             "line": {
              "color": "white"
             }
            },
            "type": "table"
           }
          ]
         },
         "layout": {
          "annotationdefaults": {
           "arrowcolor": "#2a3f5f",
           "arrowhead": 0,
           "arrowwidth": 1
          },
          "autotypenumbers": "strict",
          "coloraxis": {
           "colorbar": {
            "outlinewidth": 0,
            "ticks": ""
           }
          },
          "colorscale": {
           "diverging": [
            [
             0,
             "#8e0152"
            ],
            [
             0.1,
             "#c51b7d"
            ],
            [
             0.2,
             "#de77ae"
            ],
            [
             0.3,
             "#f1b6da"
            ],
            [
             0.4,
             "#fde0ef"
            ],
            [
             0.5,
             "#f7f7f7"
            ],
            [
             0.6,
             "#e6f5d0"
            ],
            [
             0.7,
             "#b8e186"
            ],
            [
             0.8,
             "#7fbc41"
            ],
            [
             0.9,
             "#4d9221"
            ],
            [
             1,
             "#276419"
            ]
           ],
           "sequential": [
            [
             0,
             "#0d0887"
            ],
            [
             0.1111111111111111,
             "#46039f"
            ],
            [
             0.2222222222222222,
             "#7201a8"
            ],
            [
             0.3333333333333333,
             "#9c179e"
            ],
            [
             0.4444444444444444,
             "#bd3786"
            ],
            [
             0.5555555555555556,
             "#d8576b"
            ],
            [
             0.6666666666666666,
             "#ed7953"
            ],
            [
             0.7777777777777778,
             "#fb9f3a"
            ],
            [
             0.8888888888888888,
             "#fdca26"
            ],
            [
             1,
             "#f0f921"
            ]
           ],
           "sequentialminus": [
            [
             0,
             "#0d0887"
            ],
            [
             0.1111111111111111,
             "#46039f"
            ],
            [
             0.2222222222222222,
             "#7201a8"
            ],
            [
             0.3333333333333333,
             "#9c179e"
            ],
            [
             0.4444444444444444,
             "#bd3786"
            ],
            [
             0.5555555555555556,
             "#d8576b"
            ],
            [
             0.6666666666666666,
             "#ed7953"
            ],
            [
             0.7777777777777778,
             "#fb9f3a"
            ],
            [
             0.8888888888888888,
             "#fdca26"
            ],
            [
             1,
             "#f0f921"
            ]
           ]
          },
          "colorway": [
           "#636efa",
           "#EF553B",
           "#00cc96",
           "#ab63fa",
           "#FFA15A",
           "#19d3f3",
           "#FF6692",
           "#B6E880",
           "#FF97FF",
           "#FECB52"
          ],
          "font": {
           "color": "#2a3f5f"
          },
          "geo": {
           "bgcolor": "white",
           "lakecolor": "white",
           "landcolor": "#E5ECF6",
           "showlakes": true,
           "showland": true,
           "subunitcolor": "white"
          },
          "hoverlabel": {
           "align": "left"
          },
          "hovermode": "closest",
          "mapbox": {
           "style": "light"
          },
          "paper_bgcolor": "white",
          "plot_bgcolor": "#E5ECF6",
          "polar": {
           "angularaxis": {
            "gridcolor": "white",
            "linecolor": "white",
            "ticks": ""
           },
           "bgcolor": "#E5ECF6",
           "radialaxis": {
            "gridcolor": "white",
            "linecolor": "white",
            "ticks": ""
           }
          },
          "scene": {
           "xaxis": {
            "backgroundcolor": "#E5ECF6",
            "gridcolor": "white",
            "gridwidth": 2,
            "linecolor": "white",
            "showbackground": true,
            "ticks": "",
            "zerolinecolor": "white"
           },
           "yaxis": {
            "backgroundcolor": "#E5ECF6",
            "gridcolor": "white",
            "gridwidth": 2,
            "linecolor": "white",
            "showbackground": true,
            "ticks": "",
            "zerolinecolor": "white"
           },
           "zaxis": {
            "backgroundcolor": "#E5ECF6",
            "gridcolor": "white",
            "gridwidth": 2,
            "linecolor": "white",
            "showbackground": true,
            "ticks": "",
            "zerolinecolor": "white"
           }
          },
          "shapedefaults": {
           "line": {
            "color": "#2a3f5f"
           }
          },
          "ternary": {
           "aaxis": {
            "gridcolor": "white",
            "linecolor": "white",
            "ticks": ""
           },
           "baxis": {
            "gridcolor": "white",
            "linecolor": "white",
            "ticks": ""
           },
           "bgcolor": "#E5ECF6",
           "caxis": {
            "gridcolor": "white",
            "linecolor": "white",
            "ticks": ""
           }
          },
          "title": {
           "x": 0.05
          },
          "xaxis": {
           "automargin": true,
           "gridcolor": "white",
           "linecolor": "white",
           "ticks": "",
           "title": {
            "standoff": 15
           },
           "zerolinecolor": "white",
           "zerolinewidth": 2
          },
          "yaxis": {
           "automargin": true,
           "gridcolor": "white",
           "linecolor": "white",
           "ticks": "",
           "title": {
            "standoff": 15
           },
           "zerolinecolor": "white",
           "zerolinewidth": 2
          }
         }
        },
        "xaxis": {
         "anchor": "y",
         "autorange": true,
         "domain": [
          0,
          1
         ],
         "range": [
          -0.5,
          5.5
         ],
         "title": {
          "text": "Item"
         },
         "type": "category"
        },
        "yaxis": {
         "anchor": "x",
         "autorange": true,
         "domain": [
          0,
          1
         ],
         "range": [
          0,
          84.21052631578948
         ],
         "title": {
          "text": "Score"
         },
         "type": "linear"
        }
       }
      },
      "image/png": "[encoded data removed]",
      "text/html": [
       "<div>                            <div id=\"b508a595-cd5b-4eff-b993-e9c119b9bfc5\" class=\"plotly-graph-div\" style=\"height:525px; width:100%;\"></div>            <script type=\"text/javascript\">                require([\"plotly\"], function(Plotly) {                    window.PLOTLYENV=window.PLOTLYENV || {};                                    if (document.getElementById(\"b508a595-cd5b-4eff-b993-e9c119b9bfc5\")) {                    Plotly.newPlot(                        \"b508a595-cd5b-4eff-b993-e9c119b9bfc5\",                        [{\"alignmentgroup\":\"True\",\"hovertemplate\":\"Configuration=LCT-19-580 RB005 V386<br>Item=%{x}<br>Score=%{y}<extra></extra>\",\"legendgroup\":\"LCT-19-580 RB005 V386\",\"marker\":{\"color\":\"#636efa\",\"pattern\":{\"shape\":\"\"}},\"name\":\"LCT-19-580 RB005 V386\",\"offsetgroup\":\"LCT-19-580 RB005 V386\",\"orientation\":\"v\",\"showlegend\":true,\"textposition\":\"auto\",\"x\":[\"Adhesion\",\"VHR\",\"LTS\",\"PCT\",\"Seal WVTR\",\"Sum\"],\"xaxis\":\"x\",\"y\":[6.0,0.0,37.0,0.0,37.0,80.0],\"yaxis\":\"y\",\"type\":\"bar\"},{\"alignmentgroup\":\"True\",\"hovertemplate\":\"Configuration=LCT-19-580 RB205 V386<br>Item=%{x}<br>Score=%{y}<extra></extra>\",\"legendgroup\":\"LCT-19-580 RB205 V386\",\"marker\":{\"color\":\"#EF553B\",\"pattern\":{\"shape\":\"\"}},\"name\":\"LCT-19-580 RB205 V386\",\"offsetgroup\":\"LCT-19-580 RB205 V386\",\"orientation\":\"v\",\"showlegend\":true,\"textposition\":\"auto\",\"x\":[\"Adhesion\",\"VHR\",\"LTS\",\"PCT\",\"Seal WVTR\",\"Sum\"],\"xaxis\":\"x\",\"y\":[4.333333333333333,0.0,37.0,0.0,37.0,78.33333333333334],\"yaxis\":\"y\",\"type\":\"bar\"},{\"alignmentgroup\":\"True\",\"hovertemplate\":\"Configuration=LCT-15-1098 RB005 723K1M<br>Item=%{x}<br>Score=%{y}<extra></extra>\",\"legendgroup\":\"LCT-15-1098 RB005 723K1M\",\"marker\":{\"color\":\"#00cc96\",\"pattern\":{\"shape\":\"\"}},\"name\":\"LCT-15-1098 RB005 723K1M\",\"offsetgroup\":\"LCT-15-1098 RB005 723K1M\",\"orientation\":\"v\",\"showlegend\":true,\"textposition\":\"auto\",\"x\":[\"Adhesion\",\"VHR\",\"LTS\",\"PCT\",\"Seal WVTR\",\"Sum\"],\"xaxis\":\"x\",\"y\":[7.75,37.0,1.0,0.0,30.0,75.75],\"yaxis\":\"y\",\"type\":\"bar\"},{\"alignmentgroup\":\"True\",\"hovertemplate\":\"Configuration=LCT-19-580 RB005 723K1M<br>Item=%{x}<br>Score=%{y}<extra></extra>\",\"legendgroup\":\"LCT-19-580 RB005 723K1M\",\"marker\":{\"color\":\"#ab63fa\",\"pattern\":{\"shape\":\"\"}},\"name\":\"LCT-19-580 RB005 723K1M\",\"offsetgroup\":\"LCT-19-580 RB005 723K1M\",\"orientation\":\"v\",\"showlegend\":true,\"textposition\":\"auto\",\"x\":[\"Adhesion\",\"VHR\",\"LTS\",\"PCT\",\"Seal WVTR\",\"Sum\"],\"xaxis\":\"x\",\"y\":[7.75,0.0,37.0,0.0,30.0,74.75],\"yaxis\":\"y\",\"type\":\"bar\"},{\"alignmentgroup\":\"True\",\"hovertemplate\":\"Configuration=LCT-19-580 RB205 723K1M<br>Item=%{x}<br>Score=%{y}<extra></extra>\",\"legendgroup\":\"LCT-19-580 RB205 723K1M\",\"marker\":{\"color\":\"#FFA15A\",\"pattern\":{\"shape\":\"\"}},\"name\":\"LCT-19-580 RB205 723K1M\",\"offsetgroup\":\"LCT-19-580 RB205 723K1M\",\"orientation\":\"v\",\"showlegend\":true,\"textposition\":\"auto\",\"x\":[\"Adhesion\",\"VHR\",\"LTS\",\"PCT\",\"Seal WVTR\",\"Sum\"],\"xaxis\":\"x\",\"y\":[2.6666666666666665,0.0,37.0,0.0,30.0,69.66666666666666],\"yaxis\":\"y\",\"type\":\"bar\"},{\"alignmentgroup\":\"True\",\"hovertemplate\":\"Configuration=SLC19V33 RB005 V386<br>Item=%{x}<br>Score=%{y}<extra></extra>\",\"legendgroup\":\"SLC19V33 RB005 V386\",\"marker\":{\"color\":\"#19d3f3\",\"pattern\":{\"shape\":\"\"}},\"name\":\"SLC19V33 RB005 V386\",\"offsetgroup\":\"SLC19V33 RB005 V386\",\"orientation\":\"v\",\"showlegend\":true,\"textposition\":\"auto\",\"x\":[\"Adhesion\",\"VHR\",\"LTS\",\"PCT\",\"Seal WVTR\",\"Sum\"],\"xaxis\":\"x\",\"y\":[6.0,0.0,19.0,0.0,37.0,62.0],\"yaxis\":\"y\",\"type\":\"bar\"},{\"alignmentgroup\":\"True\",\"hovertemplate\":\"Configuration=SLC19V33 RB205 V386<br>Item=%{x}<br>Score=%{y}<extra></extra>\",\"legendgroup\":\"SLC19V33 RB205 V386\",\"marker\":{\"color\":\"#FF6692\",\"pattern\":{\"shape\":\"\"}},\"name\":\"SLC19V33 RB205 V386\",\"offsetgroup\":\"SLC19V33 RB205 V386\",\"orientation\":\"v\",\"showlegend\":true,\"textposition\":\"auto\",\"x\":[\"Adhesion\",\"VHR\",\"LTS\",\"PCT\",\"Seal WVTR\",\"Sum\"],\"xaxis\":\"x\",\"y\":[4.333333333333333,0.0,19.0,0.0,37.0,60.33333333333333],\"yaxis\":\"y\",\"type\":\"bar\"},{\"alignmentgroup\":\"True\",\"hovertemplate\":\"Configuration=LCT-19-580 RB005 7142T<br>Item=%{x}<br>Score=%{y}<extra></extra>\",\"legendgroup\":\"LCT-19-580 RB005 7142T\",\"marker\":{\"color\":\"#B6E880\",\"pattern\":{\"shape\":\"\"}},\"name\":\"LCT-19-580 RB005 7142T\",\"offsetgroup\":\"LCT-19-580 RB005 7142T\",\"orientation\":\"v\",\"showlegend\":true,\"textposition\":\"auto\",\"x\":[\"Adhesion\",\"VHR\",\"LTS\",\"PCT\",\"Seal WVTR\",\"Sum\"],\"xaxis\":\"x\",\"y\":[8.0,0.0,37.0,0.0,12.0,57.0],\"yaxis\":\"y\",\"type\":\"bar\"},{\"alignmentgroup\":\"True\",\"hovertemplate\":\"Configuration=SLC19V33 RB005 723K1M<br>Item=%{x}<br>Score=%{y}<extra></extra>\",\"legendgroup\":\"SLC19V33 RB005 723K1M\",\"marker\":{\"color\":\"#FF97FF\",\"pattern\":{\"shape\":\"\"}},\"name\":\"SLC19V33 RB005 723K1M\",\"offsetgroup\":\"SLC19V33 RB005 723K1M\",\"orientation\":\"v\",\"showlegend\":true,\"textposition\":\"auto\",\"x\":[\"Adhesion\",\"VHR\",\"LTS\",\"PCT\",\"Seal WVTR\",\"Sum\"],\"xaxis\":\"x\",\"y\":[7.75,0.0,19.0,0.0,30.0,56.75],\"yaxis\":\"y\",\"type\":\"bar\"},{\"alignmentgroup\":\"True\",\"hovertemplate\":\"Configuration=LCT-15-1098 RB205 V386<br>Item=%{x}<br>Score=%{y}<extra></extra>\",\"legendgroup\":\"LCT-15-1098 RB205 V386\",\"marker\":{\"color\":\"#FECB52\",\"pattern\":{\"shape\":\"\"}},\"name\":\"LCT-15-1098 RB205 V386\",\"offsetgroup\":\"LCT-15-1098 RB205 V386\",\"orientation\":\"v\",\"showlegend\":true,\"textposition\":\"auto\",\"x\":[\"Adhesion\",\"VHR\",\"LTS\",\"PCT\",\"Seal WVTR\",\"Sum\"],\"xaxis\":\"x\",\"y\":[4.333333333333333,0.0,1.0,10.0,37.0,52.33333333333333],\"yaxis\":\"y\",\"type\":\"bar\"}],                        {\"template\":{\"data\":{\"bar\":[{\"error_x\":{\"color\":\"#2a3f5f\"},\"error_y\":{\"color\":\"#2a3f5f\"},\"marker\":{\"line\":{\"color\":\"#E5ECF6\",\"width\":0.5},\"pattern\":{\"fillmode\":\"overlay\",\"size\":10,\"solidity\":0.2}},\"type\":\"bar\"}],\"barpolar\":[{\"marker\":{\"line\":{\"color\":\"#E5ECF6\",\"width\":0.5},\"pattern\":{\"fillmode\":\"overlay\",\"size\":10,\"solidity\":0.2}},\"type\":\"barpolar\"}],\"carpet\":[{\"aaxis\":{\"endlinecolor\":\"#2a3f5f\",\"gridcolor\":\"white\",\"linecolor\":\"white\",\"minorgridcolor\":\"white\",\"startlinecolor\":\"#2a3f5f\"},\"baxis\":{\"endlinecolor\":\"#2a3f5f\",\"gridcolor\":\"white\",\"linecolor\":\"white\",\"minorgridcolor\":\"white\",\"startlinecolor\":\"#2a3f5f\"},\"type\":\"carpet\"}],\"choropleth\":[{\"colorbar\":{\"outlinewidth\":0,\"ticks\":\"\"},\"type\":\"choropleth\"}],\"contour\":[{\"colorbar\":{\"outlinewidth\":0,\"ticks\":\"\"},\"colorscale\":[[0.0,\"#0d0887\"],[0.1111111111111111,\"#46039f\"],[0.2222222222222222,\"#7201a8\"],[0.3333333333333333,\"#9c179e\"],[0.4444444444444444,\"#bd3786\"],[0.5555555555555556,\"#d8576b\"],[0.6666666666666666,\"#ed7953\"],[0.7777777777777778,\"#fb9f3a\"],[0.8888888888888888,\"#fdca26\"],[1.0,\"#f0f921\"]],\"type\":\"contour\"}],\"contourcarpet\":[{\"colorbar\":{\"outlinewidth\":0,\"ticks\":\"\"},\"type\":\"contourcarpet\"}],\"heatmap\":[{\"colorbar\":{\"outlinewidth\":0,\"ticks\":\"\"},\"colorscale\":[[0.0,\"#0d0887\"],[0.1111111111111111,\"#46039f\"],[0.2222222222222222,\"#7201a8\"],[0.3333333333333333,\"#9c179e\"],[0.4444444444444444,\"#bd3786\"],[0.5555555555555556,\"#d8576b\"],[0.6666666666666666,\"#ed7953\"],[0.7777777777777778,\"#fb9f3a\"],[0.8888888888888888,\"#fdca26\"],[1.0,\"#f0f921\"]],\"type\":\"heatmap\"}],\"heatmapgl\":[{\"colorbar\":{\"outlinewidth\":0,\"ticks\":\"\"},\"colorscale\":[[0.0,\"#0d0887\"],[0.1111111111111111,\"#46039f\"],[0.2222222222222222,\"#7201a8\"],[0.3333333333333333,\"#9c179e\"],[0.4444444444444444,\"#bd3786\"],[0.5555555555555556,\"#d8576b\"],[0.6666666666666666,\"#ed7953\"],[0.7777777777777778,\"#fb9f3a\"],[0.8888888888888888,\"#fdca26\"],[1.0,\"#f0f921\"]],\"type\":\"heatmapgl\"}],\"histogram\":[{\"marker\":{\"pattern\":{\"fillmode\":\"overlay\",\"size\":10,\"solidity\":0.2}},\"type\":\"histogram\"}],\"histogram2d\":[{\"colorbar\":{\"outlinewidth\":0,\"ticks\":\"\"},\"colorscale\":[[0.0,\"#0d0887\"],[0.1111111111111111,\"#46039f\"],[0.2222222222222222,\"#7201a8\"],[0.3333333333333333,\"#9c179e\"],[0.4444444444444444,\"#bd3786\"],[0.5555555555555556,\"#d8576b\"],[0.6666666666666666,\"#ed7953\"],[0.7777777777777778,\"#fb9f3a\"],[0.8888888888888888,\"#fdca26\"],[1.0,\"#f0f921\"]],\"type\":\"histogram2d\"}],\"histogram2dcontour\":[{\"colorbar\":{\"outlinewidth\":0,\"ticks\":\"\"},\"colorscale\":[[0.0,\"#0d0887\"],[0.1111111111111111,\"#46039f\"],[0.2222222222222222,\"#7201a8\"],[0.3333333333333333,\"#9c179e\"],[0.4444444444444444,\"#bd3786\"],[0.5555555555555556,\"#d8576b\"],[0.6666666666666666,\"#ed7953\"],[0.7777777777777778,\"#fb9f3a\"],[0.8888888888888888,\"#fdca26\"],[1.0,\"#f0f921\"]],\"type\":\"histogram2dcontour\"}],\"mesh3d\":[{\"colorbar\":{\"outlinewidth\":0,\"ticks\":\"\"},\"type\":\"mesh3d\"}],\"parcoords\":[{\"line\":{\"colorbar\":{\"outlinewidth\":0,\"ticks\":\"\"}},\"type\":\"parcoords\"}],\"pie\":[{\"automargin\":true,\"type\":\"pie\"}],\"scatter\":[{\"marker\":{\"colorbar\":{\"outlinewidth\":0,\"ticks\":\"\"}},\"type\":\"scatter\"}],\"scatter3d\":[{\"line\":{\"colorbar\":{\"outlinewidth\":0,\"ticks\":\"\"}},\"marker\":{\"colorbar\":{\"outlinewidth\":0,\"ticks\":\"\"}},\"type\":\"scatter3d\"}],\"scattercarpet\":[{\"marker\":{\"colorbar\":{\"outlinewidth\":0,\"ticks\":\"\"}},\"type\":\"scattercarpet\"}],\"scattergeo\":[{\"marker\":{\"colorbar\":{\"outlinewidth\":0,\"ticks\":\"\"}},\"type\":\"scattergeo\"}],\"scattergl\":[{\"marker\":{\"colorbar\":{\"outlinewidth\":0,\"ticks\":\"\"}},\"type\":\"scattergl\"}],\"scattermapbox\":[{\"marker\":{\"colorbar\":{\"outlinewidth\":0,\"ticks\":\"\"}},\"type\":\"scattermapbox\"}],\"scatterpolar\":[{\"marker\":{\"colorbar\":{\"outlinewidth\":0,\"ticks\":\"\"}},\"type\":\"scatterpolar\"}],\"scatterpolargl\":[{\"marker\":{\"colorbar\":{\"outlinewidth\":0,\"ticks\":\"\"}},\"type\":\"scatterpolargl\"}],\"scatterternary\":[{\"marker\":{\"colorbar\":{\"outlinewidth\":0,\"ticks\":\"\"}},\"type\":\"scatterternary\"}],\"surface\":[{\"colorbar\":{\"outlinewidth\":0,\"ticks\":\"\"},\"colorscale\":[[0.0,\"#0d0887\"],[0.1111111111111111,\"#46039f\"],[0.2222222222222222,\"#7201a8\"],[0.3333333333333333,\"#9c179e\"],[0.4444444444444444,\"#bd3786\"],[0.5555555555555556,\"#d8576b\"],[0.6666666666666666,\"#ed7953\"],[0.7777777777777778,\"#fb9f3a\"],[0.8888888888888888,\"#fdca26\"],[1.0,\"#f0f921\"]],\"type\":\"surface\"}],\"table\":[{\"cells\":{\"fill\":{\"color\":\"#EBF0F8\"},\"line\":{\"color\":\"white\"}},\"header\":{\"fill\":{\"color\":\"#C8D4E3\"},\"line\":{\"color\":\"white\"}},\"type\":\"table\"}]},\"layout\":{\"annotationdefaults\":{\"arrowcolor\":\"#2a3f5f\",\"arrowhead\":0,\"arrowwidth\":1},\"autotypenumbers\":\"strict\",\"coloraxis\":{\"colorbar\":{\"outlinewidth\":0,\"ticks\":\"\"}},\"colorscale\":{\"diverging\":[[0,\"#8e0152\"],[0.1,\"#c51b7d\"],[0.2,\"#de77ae\"],[0.3,\"#f1b6da\"],[0.4,\"#fde0ef\"],[0.5,\"#f7f7f7\"],[0.6,\"#e6f5d0\"],[0.7,\"#b8e186\"],[0.8,\"#7fbc41\"],[0.9,\"#4d9221\"],[1,\"#276419\"]],\"sequential\":[[0.0,\"#0d0887\"],[0.1111111111111111,\"#46039f\"],[0.2222222222222222,\"#7201a8\"],[0.3333333333333333,\"#9c179e\"],[0.4444444444444444,\"#bd3786\"],[0.5555555555555556,\"#d8576b\"],[0.6666666666666666,\"#ed7953\"],[0.7777777777777778,\"#fb9f3a\"],[0.8888888888888888,\"#fdca26\"],[1.0,\"#f0f921\"]],\"sequentialminus\":[[0.0,\"#0d0887\"],[0.1111111111111111,\"#46039f\"],[0.2222222222222222,\"#7201a8\"],[0.3333333333333333,\"#9c179e\"],[0.4444444444444444,\"#bd3786\"],[0.5555555555555556,\"#d8576b\"],[0.6666666666666666,\"#ed7953\"],[0.7777777777777778,\"#fb9f3a\"],[0.8888888888888888,\"#fdca26\"],[1.0,\"#f0f921\"]]},\"colorway\":[\"#636efa\",\"#EF553B\",\"#00cc96\",\"#ab63fa\",\"#FFA15A\",\"#19d3f3\",\"#FF6692\",\"#B6E880\",\"#FF97FF\",\"#FECB52\"],\"font\":{\"color\":\"#2a3f5f\"},\"geo\":{\"bgcolor\":\"white\",\"lakecolor\":\"white\",\"landcolor\":\"#E5ECF6\",\"showlakes\":true,\"showland\":true,\"subunitcolor\":\"white\"},\"hoverlabel\":{\"align\":\"left\"},\"hovermode\":\"closest\",\"mapbox\":{\"style\":\"light\"},\"paper_bgcolor\":\"white\",\"plot_bgcolor\":\"#E5ECF6\",\"polar\":{\"angularaxis\":{\"gridcolor\":\"white\",\"linecolor\":\"white\",\"ticks\":\"\"},\"bgcolor\":\"#E5ECF6\",\"radialaxis\":{\"gridcolor\":\"white\",\"linecolor\":\"white\",\"ticks\":\"\"}},\"scene\":{\"xaxis\":{\"backgroundcolor\":\"#E5ECF6\",\"gridcolor\":\"white\",\"gridwidth\":2,\"linecolor\":\"white\",\"showbackground\":true,\"ticks\":\"\",\"zerolinecolor\":\"white\"},\"yaxis\":{\"backgroundcolor\":\"#E5ECF6\",\"gridcolor\":\"white\",\"gridwidth\":2,\"linecolor\":\"white\",\"showbackground\":true,\"ticks\":\"\",\"zerolinecolor\":\"white\"},\"zaxis\":{\"backgroundcolor\":\"#E5ECF6\",\"gridcolor\":\"white\",\"gridwidth\":2,\"linecolor\":\"white\",\"showbackground\":true,\"ticks\":\"\",\"zerolinecolor\":\"white\"}},\"shapedefaults\":{\"line\":{\"color\":\"#2a3f5f\"}},\"ternary\":{\"aaxis\":{\"gridcolor\":\"white\",\"linecolor\":\"white\",\"ticks\":\"\"},\"baxis\":{\"gridcolor\":\"white\",\"linecolor\":\"white\",\"ticks\":\"\"},\"bgcolor\":\"#E5ECF6\",\"caxis\":{\"gridcolor\":\"white\",\"linecolor\":\"white\",\"ticks\":\"\"}},\"title\":{\"x\":0.05},\"xaxis\":{\"automargin\":true,\"gridcolor\":\"white\",\"linecolor\":\"white\",\"ticks\":\"\",\"title\":{\"standoff\":15},\"zerolinecolor\":\"white\",\"zerolinewidth\":2},\"yaxis\":{\"automargin\":true,\"gridcolor\":\"white\",\"linecolor\":\"white\",\"ticks\":\"\",\"title\":{\"standoff\":15},\"zerolinecolor\":\"white\",\"zerolinewidth\":2}}},\"xaxis\":{\"anchor\":\"y\",\"domain\":[0.0,1.0],\"title\":{\"text\":\"Item\"}},\"yaxis\":{\"anchor\":\"x\",\"domain\":[0.0,1.0],\"title\":{\"text\":\"Score\"}},\"legend\":{\"title\":{\"text\":\"Configuration\"},\"tracegroupgap\":0},\"margin\":{\"t\":60},\"barmode\":\"group\"},                        {\"responsive\": true}                    ).then(function(){\n",
       "                            \n",
       "var gd = document.getElementById('b508a595-cd5b-4eff-b993-e9c119b9bfc5');\n",
       "var x = new MutationObserver(function (mutations, observer) {{\n",
       "        var display = window.getComputedStyle(gd).display;\n",
       "        if (!display || display === 'none') {{\n",
       "            console.log([gd, 'removed!']);\n",
       "            Plotly.purge(gd);\n",
       "            observer.disconnect();\n",
       "        }}\n",
       "}});\n",
       "\n",
       "// Listen for the removal of the full notebook cells\n",
       "var notebookContainer = gd.closest('#notebook-container');\n",
       "if (notebookContainer) {{\n",
       "    x.observe(notebookContainer, {childList: true});\n",
       "}}\n",
       "\n",
       "// Listen for the clearing of the current output cell\n",
       "var outputEl = gd.closest('.output');\n",
       "if (outputEl) {{\n",
       "    x.observe(outputEl, {childList: true});\n",
       "}}\n",
       "\n",
       "                        })                };                });            </script>        </div>"
      ]
     },
     "metadata": {},
     "output_type": "display_data"
    }
   ],
   "source": [
    "ra_fig = px.bar(\n",
    "    ra_plot_df,\n",
    "    x='Item',\n",
    "    y='Score',\n",
    "    color='Configuration',\n",
    "    barmode='group'\n",
    ")\n",
    "ra_fig.show()"
   ]
  },
  {
   "cell_type": "code",
   "execution_count": 70,
   "id": "25fdd854-3726-4df1-b081-d24f277e9a33",
   "metadata": {},
   "outputs": [
    {
     "data": {
      "text/html": [
       "<div>\n",
       "<style scoped>\n",
       "    .dataframe tbody tr th:only-of-type {\n",
       "        vertical-align: middle;\n",
       "    }\n",
       "\n",
       "    .dataframe tbody tr th {\n",
       "        vertical-align: top;\n",
       "    }\n",
       "\n",
       "    .dataframe thead th {\n",
       "        text-align: right;\n",
       "    }\n",
       "</style>\n",
       "<table border=\"1\" class=\"dataframe\">\n",
       "  <thead>\n",
       "    <tr style=\"text-align: right;\">\n",
       "      <th></th>\n",
       "      <th>LC</th>\n",
       "      <th>PI</th>\n",
       "      <th>Seal</th>\n",
       "      <th>value</th>\n",
       "      <th>score</th>\n",
       "    </tr>\n",
       "  </thead>\n",
       "  <tbody>\n",
       "    <tr>\n",
       "      <th>0</th>\n",
       "      <td>LCT-15-1098</td>\n",
       "      <td>RB005</td>\n",
       "      <td>7142T</td>\n",
       "      <td>83.9</td>\n",
       "      <td>15.0</td>\n",
       "    </tr>\n",
       "    <tr>\n",
       "      <th>1</th>\n",
       "      <td>LCT-15-1098</td>\n",
       "      <td>RB005</td>\n",
       "      <td>723K1M</td>\n",
       "      <td>89.0</td>\n",
       "      <td>37.0</td>\n",
       "    </tr>\n",
       "    <tr>\n",
       "      <th>2</th>\n",
       "      <td>LCT-15-1098</td>\n",
       "      <td>RB005</td>\n",
       "      <td>V386</td>\n",
       "      <td>80.5</td>\n",
       "      <td>1.0</td>\n",
       "    </tr>\n",
       "  </tbody>\n",
       "</table>\n",
       "</div>"
      ],
      "text/plain": [
       "            LC     PI    Seal  value  score\n",
       "0  LCT-15-1098  RB005   7142T   83.9   15.0\n",
       "1  LCT-15-1098  RB005  723K1M   89.0   37.0\n",
       "2  LCT-15-1098  RB005    V386   80.5    1.0"
      ]
     },
     "execution_count": 70,
     "metadata": {},
     "output_type": "execute_result"
    }
   ],
   "source": [
    "vhr_mean_df"
   ]
  },
  {
   "cell_type": "code",
   "execution_count": 75,
   "id": "7402e944-d764-4c4d-87b3-bd57df1f1bff",
   "metadata": {},
   "outputs": [
    {
     "data": {
      "text/html": [
       "<div>\n",
       "<style scoped>\n",
       "    .dataframe tbody tr th:only-of-type {\n",
       "        vertical-align: middle;\n",
       "    }\n",
       "\n",
       "    .dataframe tbody tr th {\n",
       "        vertical-align: top;\n",
       "    }\n",
       "\n",
       "    .dataframe thead th {\n",
       "        text-align: right;\n",
       "    }\n",
       "</style>\n",
       "<table border=\"1\" class=\"dataframe\">\n",
       "  <thead>\n",
       "    <tr style=\"text-align: right;\">\n",
       "      <th></th>\n",
       "      <th>PI</th>\n",
       "    </tr>\n",
       "  </thead>\n",
       "  <tbody>\n",
       "    <tr>\n",
       "      <th>0</th>\n",
       "      <td>723K1M</td>\n",
       "    </tr>\n",
       "    <tr>\n",
       "      <th>1</th>\n",
       "      <td>7142T</td>\n",
       "    </tr>\n",
       "    <tr>\n",
       "      <th>2</th>\n",
       "      <td>V386</td>\n",
       "    </tr>\n",
       "    <tr>\n",
       "      <th>3</th>\n",
       "      <td>S-NP07</td>\n",
       "    </tr>\n",
       "    <tr>\n",
       "      <th>4</th>\n",
       "      <td>SNP07</td>\n",
       "    </tr>\n",
       "    <tr>\n",
       "      <th>5</th>\n",
       "      <td>N.A.</td>\n",
       "    </tr>\n",
       "    <tr>\n",
       "      <th>6</th>\n",
       "      <td>XN-5490H</td>\n",
       "    </tr>\n",
       "    <tr>\n",
       "      <th>7</th>\n",
       "      <td>SWH25</td>\n",
       "    </tr>\n",
       "    <tr>\n",
       "      <th>8</th>\n",
       "      <td>SSS42</td>\n",
       "    </tr>\n",
       "  </tbody>\n",
       "</table>\n",
       "</div>"
      ],
      "text/plain": [
       "         PI\n",
       "0    723K1M\n",
       "1     7142T\n",
       "2      V386\n",
       "3    S-NP07\n",
       "4     SNP07\n",
       "5      N.A.\n",
       "6  XN-5490H\n",
       "7     SWH25\n",
       "8     SSS42"
      ]
     },
     "execution_count": 75,
     "metadata": {},
     "output_type": "execute_result"
    }
   ],
   "source": [
    "pd.DataFrame({'PI': (list(Seal.objects.all().values_list('name', flat=True)))})"
   ]
  },
  {
   "cell_type": "code",
   "execution_count": 7,
   "id": "3e008605-8161-4f17-aee5-0e7374f5406b",
   "metadata": {},
   "outputs": [],
   "source": [
    "query = {'LC': ['LCT-15-1098', 'SLC19V33', 'SLC20V87', '843001', 'ZIX-7054XX', 'N.A.'], 'PI': ['RB005', 'RB205', 'N.A.', 'SE-7492'], 'Seal': ['723K1M', '7142T', 'V386', 'S-NP07', 'SNP07', \n",
    "'N.A.', 'XN-5490H', 'SWH25', 'SSS42']}"
   ]
  },
  {
   "cell_type": "code",
   "execution_count": 8,
   "id": "74c19b82-a3a3-4767-b81f-386b0ed34276",
   "metadata": {},
   "outputs": [],
   "source": [
    "df_LC = pd.DataFrame({'LC': query['LC']})\n",
    "df_PI = pd.DataFrame({'PI': query['PI']})\n",
    "df_seal = pd.DataFrame({'Seal': query['Seal']})"
   ]
  },
  {
   "cell_type": "code",
   "execution_count": 14,
   "id": "4c6f8097-964c-4f45-930a-a166f96f00f9",
   "metadata": {},
   "outputs": [
    {
     "ename": "MergeError",
     "evalue": "No common columns to perform merge on. Merge options: left_on=None, right_on=None, left_index=False, right_index=False",
     "output_type": "error",
     "traceback": [
      "\u001b[1;31m---------------------------------------------------------------------------\u001b[0m",
      "\u001b[1;31mMergeError\u001b[0m                                Traceback (most recent call last)",
      "\u001b[1;32m~\\AppData\\Local\\Temp/ipykernel_13228/1752297502.py\u001b[0m in \u001b[0;36m<module>\u001b[1;34m\u001b[0m\n\u001b[1;32m----> 1\u001b[1;33m \u001b[0mdf_LC_PI\u001b[0m \u001b[1;33m=\u001b[0m \u001b[0mdf_LC\u001b[0m\u001b[1;33m.\u001b[0m\u001b[0mmerge\u001b[0m\u001b[1;33m(\u001b[0m\u001b[0mdf_PI\u001b[0m\u001b[1;33m,\u001b[0m \u001b[0mhow\u001b[0m\u001b[1;33m=\u001b[0m\u001b[1;34m'cross'\u001b[0m\u001b[1;33m)\u001b[0m\u001b[1;33m\u001b[0m\u001b[1;33m\u001b[0m\u001b[0m\n\u001b[0m",
      "\u001b[1;32mF:\\opt\\anaconda\\envs\\td_toolkits\\lib\\site-packages\\pandas\\core\\frame.py\u001b[0m in \u001b[0;36mmerge\u001b[1;34m(self, right, how, on, left_on, right_on, left_index, right_index, sort, suffixes, copy, indicator, validate)\u001b[0m\n\u001b[0;32m   7944\u001b[0m         \u001b[1;32mfrom\u001b[0m \u001b[0mpandas\u001b[0m\u001b[1;33m.\u001b[0m\u001b[0mcore\u001b[0m\u001b[1;33m.\u001b[0m\u001b[0mreshape\u001b[0m\u001b[1;33m.\u001b[0m\u001b[0mmerge\u001b[0m \u001b[1;32mimport\u001b[0m \u001b[0mmerge\u001b[0m\u001b[1;33m\u001b[0m\u001b[1;33m\u001b[0m\u001b[0m\n\u001b[0;32m   7945\u001b[0m \u001b[1;33m\u001b[0m\u001b[0m\n\u001b[1;32m-> 7946\u001b[1;33m         return merge(\n\u001b[0m\u001b[0;32m   7947\u001b[0m             \u001b[0mself\u001b[0m\u001b[1;33m,\u001b[0m\u001b[1;33m\u001b[0m\u001b[1;33m\u001b[0m\u001b[0m\n\u001b[0;32m   7948\u001b[0m             \u001b[0mright\u001b[0m\u001b[1;33m,\u001b[0m\u001b[1;33m\u001b[0m\u001b[1;33m\u001b[0m\u001b[0m\n",
      "\u001b[1;32mF:\\opt\\anaconda\\envs\\td_toolkits\\lib\\site-packages\\pandas\\core\\reshape\\merge.py\u001b[0m in \u001b[0;36mmerge\u001b[1;34m(left, right, how, on, left_on, right_on, left_index, right_index, sort, suffixes, copy, indicator, validate)\u001b[0m\n\u001b[0;32m     72\u001b[0m     \u001b[0mvalidate\u001b[0m\u001b[1;33m=\u001b[0m\u001b[1;32mNone\u001b[0m\u001b[1;33m,\u001b[0m\u001b[1;33m\u001b[0m\u001b[1;33m\u001b[0m\u001b[0m\n\u001b[0;32m     73\u001b[0m ) -> \"DataFrame\":\n\u001b[1;32m---> 74\u001b[1;33m     op = _MergeOperation(\n\u001b[0m\u001b[0;32m     75\u001b[0m         \u001b[0mleft\u001b[0m\u001b[1;33m,\u001b[0m\u001b[1;33m\u001b[0m\u001b[1;33m\u001b[0m\u001b[0m\n\u001b[0;32m     76\u001b[0m         \u001b[0mright\u001b[0m\u001b[1;33m,\u001b[0m\u001b[1;33m\u001b[0m\u001b[1;33m\u001b[0m\u001b[0m\n",
      "\u001b[1;32mF:\\opt\\anaconda\\envs\\td_toolkits\\lib\\site-packages\\pandas\\core\\reshape\\merge.py\u001b[0m in \u001b[0;36m__init__\u001b[1;34m(self, left, right, how, on, left_on, right_on, axis, left_index, right_index, sort, suffixes, copy, indicator, validate)\u001b[0m\n\u001b[0;32m    643\u001b[0m             \u001b[0mwarnings\u001b[0m\u001b[1;33m.\u001b[0m\u001b[0mwarn\u001b[0m\u001b[1;33m(\u001b[0m\u001b[0mmsg\u001b[0m\u001b[1;33m,\u001b[0m \u001b[0mUserWarning\u001b[0m\u001b[1;33m)\u001b[0m\u001b[1;33m\u001b[0m\u001b[1;33m\u001b[0m\u001b[0m\n\u001b[0;32m    644\u001b[0m \u001b[1;33m\u001b[0m\u001b[0m\n\u001b[1;32m--> 645\u001b[1;33m         \u001b[0mself\u001b[0m\u001b[1;33m.\u001b[0m\u001b[0m_validate_specification\u001b[0m\u001b[1;33m(\u001b[0m\u001b[1;33m)\u001b[0m\u001b[1;33m\u001b[0m\u001b[1;33m\u001b[0m\u001b[0m\n\u001b[0m\u001b[0;32m    646\u001b[0m \u001b[1;33m\u001b[0m\u001b[0m\n\u001b[0;32m    647\u001b[0m         \u001b[1;31m# note this function has side effects\u001b[0m\u001b[1;33m\u001b[0m\u001b[1;33m\u001b[0m\u001b[1;33m\u001b[0m\u001b[0m\n",
      "\u001b[1;32mF:\\opt\\anaconda\\envs\\td_toolkits\\lib\\site-packages\\pandas\\core\\reshape\\merge.py\u001b[0m in \u001b[0;36m_validate_specification\u001b[1;34m(self)\u001b[0m\n\u001b[0;32m   1212\u001b[0m                 \u001b[0mcommon_cols\u001b[0m \u001b[1;33m=\u001b[0m \u001b[0mself\u001b[0m\u001b[1;33m.\u001b[0m\u001b[0mleft\u001b[0m\u001b[1;33m.\u001b[0m\u001b[0mcolumns\u001b[0m\u001b[1;33m.\u001b[0m\u001b[0mintersection\u001b[0m\u001b[1;33m(\u001b[0m\u001b[0mself\u001b[0m\u001b[1;33m.\u001b[0m\u001b[0mright\u001b[0m\u001b[1;33m.\u001b[0m\u001b[0mcolumns\u001b[0m\u001b[1;33m)\u001b[0m\u001b[1;33m\u001b[0m\u001b[1;33m\u001b[0m\u001b[0m\n\u001b[0;32m   1213\u001b[0m                 \u001b[1;32mif\u001b[0m \u001b[0mlen\u001b[0m\u001b[1;33m(\u001b[0m\u001b[0mcommon_cols\u001b[0m\u001b[1;33m)\u001b[0m \u001b[1;33m==\u001b[0m \u001b[1;36m0\u001b[0m\u001b[1;33m:\u001b[0m\u001b[1;33m\u001b[0m\u001b[1;33m\u001b[0m\u001b[0m\n\u001b[1;32m-> 1214\u001b[1;33m                     raise MergeError(\n\u001b[0m\u001b[0;32m   1215\u001b[0m                         \u001b[1;34m\"No common columns to perform merge on. \"\u001b[0m\u001b[1;33m\u001b[0m\u001b[1;33m\u001b[0m\u001b[0m\n\u001b[0;32m   1216\u001b[0m                         \u001b[1;34mf\"Merge options: left_on={self.left_on}, \"\u001b[0m\u001b[1;33m\u001b[0m\u001b[1;33m\u001b[0m\u001b[0m\n",
      "\u001b[1;31mMergeError\u001b[0m: No common columns to perform merge on. Merge options: left_on=None, right_on=None, left_index=False, right_index=False"
     ]
    }
   ],
   "source": [
    "df_LC_PI = df_LC.merge(df_PI, how='cross')\n"
   ]
  },
  {
   "cell_type": "code",
   "execution_count": 10,
   "id": "3611c93c-d355-4a33-a0cd-ad8eed519c48",
   "metadata": {},
   "outputs": [],
   "source": [
    "from django.db.models import F\n",
    "\n",
    "df = pd.DataFrame.from_records(OpticsLogTest.objects.filter(\n",
    "    batch=Batch.objects.last(),\n",
    "    cell_gap=F('liquidCrystal__designed_cell_gap'),\n",
    "    v_percent='V99'\n",
    ").values(\n",
    "    \"liquidCrystal__name\",\n",
    "    \"lc_percent\",\n",
    "    \"delta_e_ab_star\",\n",
    "    \"response_time\",\n",
    "    \"contrast_ratio\",\n",
    "    'remark',\n",
    "))"
   ]
  },
  {
   "cell_type": "code",
   "execution_count": 11,
   "id": "56ce2e39-b699-479b-b79c-3be4d44c8fe7",
   "metadata": {},
   "outputs": [
    {
     "data": {
      "text/html": [
       "<div>\n",
       "<style scoped>\n",
       "    .dataframe tbody tr th:only-of-type {\n",
       "        vertical-align: middle;\n",
       "    }\n",
       "\n",
       "    .dataframe tbody tr th {\n",
       "        vertical-align: top;\n",
       "    }\n",
       "\n",
       "    .dataframe thead th {\n",
       "        text-align: right;\n",
       "    }\n",
       "</style>\n",
       "<table border=\"1\" class=\"dataframe\">\n",
       "  <thead>\n",
       "    <tr style=\"text-align: right;\">\n",
       "      <th></th>\n",
       "      <th>liquidCrystal__name</th>\n",
       "      <th>lc_percent</th>\n",
       "      <th>delta_e_ab_star</th>\n",
       "      <th>response_time</th>\n",
       "      <th>contrast_ratio</th>\n",
       "      <th>remark</th>\n",
       "    </tr>\n",
       "  </thead>\n",
       "  <tbody>\n",
       "    <tr>\n",
       "      <th>0</th>\n",
       "      <td>LCT-15-1098</td>\n",
       "      <td>77.008</td>\n",
       "      <td>4.559364946</td>\n",
       "      <td>18.838267218</td>\n",
       "      <td>1809.0</td>\n",
       "      <td>Interpolation</td>\n",
       "    </tr>\n",
       "    <tr>\n",
       "      <th>1</th>\n",
       "      <td>SLC19V33</td>\n",
       "      <td>78.763</td>\n",
       "      <td>6.642051094</td>\n",
       "      <td>18.913386317</td>\n",
       "      <td>1466.5</td>\n",
       "      <td>Interpolation</td>\n",
       "    </tr>\n",
       "    <tr>\n",
       "      <th>2</th>\n",
       "      <td>SLC20V87</td>\n",
       "      <td>80.488</td>\n",
       "      <td>8.469812870</td>\n",
       "      <td>19.375287382</td>\n",
       "      <td>1571.5</td>\n",
       "      <td>Extrapolation</td>\n",
       "    </tr>\n",
       "    <tr>\n",
       "      <th>3</th>\n",
       "      <td>843001</td>\n",
       "      <td>78.616</td>\n",
       "      <td>3.574582943</td>\n",
       "      <td>18.803873728</td>\n",
       "      <td>1676.2</td>\n",
       "      <td>Interpolation</td>\n",
       "    </tr>\n",
       "    <tr>\n",
       "      <th>4</th>\n",
       "      <td>ZIX-7054XX</td>\n",
       "      <td>79.534</td>\n",
       "      <td>4.878003577</td>\n",
       "      <td>18.629047407</td>\n",
       "      <td>1496.4</td>\n",
       "      <td>Interpolation</td>\n",
       "    </tr>\n",
       "  </tbody>\n",
       "</table>\n",
       "</div>"
      ],
      "text/plain": [
       "  liquidCrystal__name lc_percent delta_e_ab_star response_time contrast_ratio  \\\n",
       "0         LCT-15-1098     77.008     4.559364946  18.838267218         1809.0   \n",
       "1            SLC19V33     78.763     6.642051094  18.913386317         1466.5   \n",
       "2            SLC20V87     80.488     8.469812870  19.375287382         1571.5   \n",
       "3              843001     78.616     3.574582943  18.803873728         1676.2   \n",
       "4          ZIX-7054XX     79.534     4.878003577  18.629047407         1496.4   \n",
       "\n",
       "          remark  \n",
       "0  Interpolation  \n",
       "1  Interpolation  \n",
       "2  Extrapolation  \n",
       "3  Interpolation  \n",
       "4  Interpolation  "
      ]
     },
     "execution_count": 11,
     "metadata": {},
     "output_type": "execute_result"
    }
   ],
   "source": [
    "df.iloc"
   ]
  },
  {
   "cell_type": "code",
   "execution_count": 37,
   "id": "f082c902-294a-4e50-ab24-d5f9ea82980e",
   "metadata": {},
   "outputs": [
    {
     "data": {
      "text/plain": [
       "decimal.Decimal"
      ]
     },
     "execution_count": 37,
     "metadata": {},
     "output_type": "execute_result"
    }
   ],
   "source": [
    "df.iloc[]"
   ]
  },
  {
   "cell_type": "code",
   "execution_count": 9,
   "id": "9cbf07fa-0200-4b0a-84fa-f651c62f7aa8",
   "metadata": {},
   "outputs": [
    {
     "data": {
      "text/plain": [
       "[1, 2, 3]"
      ]
     },
     "execution_count": 9,
     "metadata": {},
     "output_type": "execute_result"
    }
   ],
   "source": [
    "a = [0, 1, 2, 3, 4]\n",
    "a[1:-1]"
   ]
  }
 ],
 "metadata": {
  "kernelspec": {
   "display_name": "Django Shell-Plus",
   "language": "python",
   "name": "django_extensions"
  },
  "language_info": {
   "codemirror_mode": {
    "name": "ipython",
    "version": 3
   },
   "file_extension": ".py",
   "mimetype": "text/x-python",
   "name": "python",
   "nbconvert_exporter": "python",
   "pygments_lexer": "ipython3",
   "version": "3.8.12"
  }
 },
 "nbformat": 4,
 "nbformat_minor": 5
}
